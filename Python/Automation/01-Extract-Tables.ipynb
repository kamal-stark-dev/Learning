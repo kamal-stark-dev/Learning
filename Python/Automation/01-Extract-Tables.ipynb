{
 "cells": [
  {
   "cell_type": "code",
   "execution_count": null,
   "metadata": {},
   "outputs": [],
   "source": [
    "import pandas as pd"
   ]
  },
  {
   "cell_type": "code",
   "execution_count": 6,
   "metadata": {},
   "outputs": [
    {
     "name": "stdout",
     "output_type": "stream",
     "text": [
      "There are 20 tables\n"
     ]
    }
   ],
   "source": [
    "# Link to site whose tables you want to extract\n",
    "one_piece = pd.read_html('https://en.wikipedia.org/wiki/List_of_One_Piece_episodes_(seasons_1%E2%80%938)')\n",
    "\n",
    "print('There are', len(one_piece), 'tables')"
   ]
  },
  {
   "cell_type": "code",
   "execution_count": 8,
   "metadata": {},
   "outputs": [
    {
     "name": "stdout",
     "output_type": "stream",
     "text": [
      "   Season                                       Season title Episodes  \\\n",
      "   Season                                       Season title Episodes   \n",
      "0       1                                          East Blue       61   \n",
      "1       2                       Entering into the Grand Line       16   \n",
      "2       3           Introducing Chopper at the Winter Island       15   \n",
      "3       4              Arrival & Fierce Fighting in Alabasta       38   \n",
      "4       5  Dreams!, The Zenny Pirate Crew Sortie!, Beyond...       13   \n",
      "5       6             Sky Island ~ Skypiea & The Golden Bell       52   \n",
      "6       7  Escape! The Marine Fortress & The Foxy Pirate ...       33   \n",
      "7       8                                        Water Seven       35   \n",
      "8       9                                        Enies Lobby       73   \n",
      "9      10                                      Thriller Bark       45   \n",
      "10     11                                Sabaody Archipelago       26   \n",
      "11     12                                    Island of Women       14   \n",
      "12     13                                         Impel Down       35   \n",
      "13     14                                         Marineford       60   \n",
      "14     15                                     Fishman Island       62   \n",
      "15     16                                        Punk Hazard       50   \n",
      "16     17                                          Dressrosa      118   \n",
      "17     18                                                Zou       36   \n",
      "18     19                                  Whole Cake Island      109   \n",
      "19     20                                       Wano Country      197   \n",
      "20     21                                            Egghead       34   \n",
      "\n",
      "              Originally released                      \n",
      "   Episodes.1      First released       Last released  \n",
      "0          61    October 20, 1999      March 14, 2001  \n",
      "1          16      March 21, 2001     August 19, 2001  \n",
      "2          15     August 26, 2001    December 9, 2001  \n",
      "3          38   December 16, 2001    October 27, 2002  \n",
      "4          13    November 3, 2002    February 2, 2003  \n",
      "5          52    February 9, 2003       June 13, 2004  \n",
      "6          33       June 20, 2004      March 27, 2005  \n",
      "7          35      April 17, 2005      April 30, 2006  \n",
      "8          73        May 21, 2006   December 23, 2007  \n",
      "9          45     January 6, 2008   December 14, 2008  \n",
      "10         26   December 21, 2008       June 28, 2009  \n",
      "11         14        July 5, 2009    October 11, 2009  \n",
      "12         35    October 18, 2009       June 20, 2010  \n",
      "13         60       June 27, 2010  September 25, 2011  \n",
      "14         62     October 2, 2011   December 23, 2012  \n",
      "15         50     January 6, 2013    January 12, 2014  \n",
      "16        118    January 19, 2014       June 19, 2016  \n",
      "17         36       June 26, 2016       April 2, 2017  \n",
      "18        109       April 9, 2017       June 30, 2019  \n",
      "19        197        July 7, 2019   December 17, 2023  \n",
      "20         34     January 7, 2024                 TBA  \n"
     ]
    }
   ],
   "source": [
    "print(one_piece[1])"
   ]
  }
 ],
 "metadata": {
  "kernelspec": {
   "display_name": "Python 3",
   "language": "python",
   "name": "python3"
  },
  "language_info": {
   "codemirror_mode": {
    "name": "ipython",
    "version": 3
   },
   "file_extension": ".py",
   "mimetype": "text/x-python",
   "name": "python",
   "nbconvert_exporter": "python",
   "pygments_lexer": "ipython3",
   "version": "3.10.11"
  }
 },
 "nbformat": 4,
 "nbformat_minor": 2
}
