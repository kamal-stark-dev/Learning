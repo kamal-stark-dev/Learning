{
 "cells": [
  {
   "cell_type": "code",
   "execution_count": 1,
   "metadata": {},
   "outputs": [
    {
     "name": "stdout",
     "output_type": "stream",
     "text": [
      "Collecting emoji\n",
      "  Downloading emoji-2.14.0-py3-none-any.whl.metadata (5.7 kB)\n",
      "Downloading emoji-2.14.0-py3-none-any.whl (586 kB)\n",
      "   ---------------------------------------- 0.0/586.9 kB ? eta -:--:--\n",
      "   ------------------ --------------------- 276.5/586.9 kB 8.3 MB/s eta 0:00:01\n",
      "   ---------------------------------------- 586.9/586.9 kB 7.3 MB/s eta 0:00:00\n",
      "Installing collected packages: emoji\n",
      "Successfully installed emoji-2.14.0\n",
      "Note: you may need to restart the kernel to use updated packages.\n"
     ]
    },
    {
     "name": "stderr",
     "output_type": "stream",
     "text": [
      "\n",
      "[notice] A new release of pip is available: 24.1 -> 24.3.1\n",
      "[notice] To update, run: python.exe -m pip install --upgrade pip\n"
     ]
    }
   ],
   "source": [
    "%pip install emoji"
   ]
  },
  {
   "cell_type": "code",
   "execution_count": 2,
   "metadata": {},
   "outputs": [],
   "source": [
    "import emoji"
   ]
  },
  {
   "cell_type": "markdown",
   "metadata": {},
   "source": [
    "| Unicode Character | Emoji | Alias  | CLDR Shorthand\n",
    "| ----------------- | ----- | ------------ |------------ |\n",
    "| 1F600             | 😀    | grinning     | grinning face\n",
    "| 1F601             | 😁    | grin         | beaming face with smiling eyes\n",
    "| 1F60E             | 😎    | sunglasses   | smiling face with sunglasses\n",
    "| 1F60F             | 😏    | smirk        |smirking face\n",
    "| 1F609             | 😉    | wink         | winking face\n",
    "|1F60D\t|😍|heart_eyes| smiling face with heart-eyes\n",
    "|1F636|😶|no_mouth|face without mouth\n",
    "|1F634\t |😴 | sleeping|sleeping face\n",
    "| 1F610             | 😐    | neutral_face |neutral face\n",
    "|1F607\t|😇 |innocent |smiling face with halo\n",
    "|1F631\t|😱|scream|face screaming in fear\n",
    "|1F62D\t |😭 | sob|loudly crying face\n",
    "|1F621\t |😡 |rage |enraged face\n",
    "|1F44A\t |👊 | punch |oncoming fist\n",
    "| 1F44D             | 👍    | thumbs_up     |thumbs up\n",
    "|1F44F|👏|clap|clapping hands\n",
    "|1F64C|🙌|raised_hands|raising hands\n",
    "|1F918 |🤘|metal|sign of the horns\n",
    "| 1F63A             | 😺    | smile_cat    |grinning cat\n",
    "| 1F436             | 🐶    | dog          |dog face\n",
    "| 1F47D             | 👽    | alien        |alien"
   ]
  },
  {
   "cell_type": "markdown",
   "metadata": {},
   "source": [
    "### **1. Using Unicode Characters**"
   ]
  },
  {
   "cell_type": "code",
   "execution_count": 3,
   "metadata": {},
   "outputs": [
    {
     "name": "stdout",
     "output_type": "stream",
     "text": [
      "😉\n"
     ]
    }
   ],
   "source": [
    "print('\\U0001F609')"
   ]
  },
  {
   "cell_type": "code",
   "execution_count": 6,
   "metadata": {},
   "outputs": [
    {
     "name": "stdout",
     "output_type": "stream",
     "text": [
      "You are doing great 😇\n"
     ]
    }
   ],
   "source": [
    "print('You are doing great \\N{smiling face with halo}')"
   ]
  },
  {
   "cell_type": "markdown",
   "metadata": {},
   "source": [
    "### **2. Emoji Module**"
   ]
  },
  {
   "cell_type": "code",
   "execution_count": 10,
   "metadata": {},
   "outputs": [
    {
     "name": "stdout",
     "output_type": "stream",
     "text": [
      "Hii 😸\n"
     ]
    }
   ],
   "source": [
    "print('Hii', emoji.emojize(':smile_cat:', language='alias'))"
   ]
  },
  {
   "cell_type": "code",
   "execution_count": 14,
   "metadata": {},
   "outputs": [
    {
     "name": "stdout",
     "output_type": "stream",
     "text": [
      "I like your MOM 😍\n"
     ]
    }
   ],
   "source": [
    "def emoji_alias(alias: str) -> str:\n",
    "    alias = ':' + alias + ':'\n",
    "    return emoji.emojize(alias, language='alias')\n",
    "\n",
    "print('I like your MOM', emoji_alias('heart_eyes'))"
   ]
  },
  {
   "cell_type": "markdown",
   "metadata": {},
   "source": [
    "> Or you can just copy and paste the emoji (emoticon) that you like directly from somewhere else."
   ]
  },
  {
   "cell_type": "markdown",
   "metadata": {},
   "source": [
    "### **Random Emojis**"
   ]
  },
  {
   "cell_type": "code",
   "execution_count": 100,
   "metadata": {},
   "outputs": [
    {
     "name": "stdout",
     "output_type": "stream",
     "text": [
      "🚵🏻‍♂️\n"
     ]
    }
   ],
   "source": [
    "from random import choice\n",
    "\n",
    "def random_emoji() -> str:\n",
    "    emoji_list = list(emoji.EMOJI_DATA.keys())\n",
    "    return choice(emoji_list)\n",
    "\n",
    "print(random_emoji())"
   ]
  },
  {
   "cell_type": "code",
   "execution_count": 121,
   "metadata": {},
   "outputs": [
    {
     "name": "stdout",
     "output_type": "stream",
     "text": [
      "I like this emoji: 💇🏻‍♂️\n"
     ]
    }
   ],
   "source": [
    "print(f\"I like this emoji: {random_emoji()}\")"
   ]
  },
  {
   "cell_type": "code",
   "execution_count": 146,
   "metadata": {},
   "outputs": [
    {
     "name": "stdout",
     "output_type": "stream",
     "text": [
      "\n",
      "My favorite food is 🤛\n",
      "and I like to do 🙇🏼\n",
      "with my pet who likes 🦸🏽‍♀\n",
      "\n"
     ]
    }
   ],
   "source": [
    "random_stuff = f\"\"\"\n",
    "My favorite food is {random_emoji()}\n",
    "and I like to do {random_emoji()}\n",
    "with my pet who likes {random_emoji()}\n",
    "\"\"\"\n",
    "\n",
    "print(random_stuff)"
   ]
  },
  {
   "cell_type": "markdown",
   "metadata": {},
   "source": [
    "### _Haha car go vroom vroom boom boom brrrrrrr........_"
   ]
  }
 ],
 "metadata": {
  "kernelspec": {
   "display_name": "env",
   "language": "python",
   "name": "python3"
  },
  "language_info": {
   "codemirror_mode": {
    "name": "ipython",
    "version": 3
   },
   "file_extension": ".py",
   "mimetype": "text/x-python",
   "name": "python",
   "nbconvert_exporter": "python",
   "pygments_lexer": "ipython3",
   "version": "3.10.11"
  }
 },
 "nbformat": 4,
 "nbformat_minor": 2
}
