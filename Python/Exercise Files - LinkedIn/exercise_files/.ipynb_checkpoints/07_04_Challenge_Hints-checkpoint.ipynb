{
 "cells": [
  {
   "cell_type": "markdown",
   "id": "dda9c8c6",
   "metadata": {},
   "source": [
    "## Shaping Up"
   ]
  },
  {
   "cell_type": "markdown",
   "id": "f4a633c4",
   "metadata": {},
   "source": [
    "**Hint 1:** \n",
    "In the square class, the printRow function takes in an argument i, which is not used. What happens if you actually use this argument?"
   ]
  },
  {
   "cell_type": "markdown",
   "id": "0a4e8a12",
   "metadata": {},
   "source": [
    "**Hint 2:** Triangles are small at the top and big at the bottom! (Huge help, I know.) \n",
    "\n",
    "But think about it. How can you use the variable i to print out something small at the top and big at the bottom? Or, heck, make an upside-down triangle! Print out something big at the top and small at the bottom. "
   ]
  }
 ],
 "metadata": {
  "kernelspec": {
   "display_name": "Python 3 (ipykernel)",
   "language": "python",
   "name": "python3"
  },
  "language_info": {
   "codemirror_mode": {
    "name": "ipython",
    "version": 3
   },
   "file_extension": ".py",
   "mimetype": "text/x-python",
   "name": "python",
   "nbconvert_exporter": "python",
   "pygments_lexer": "ipython3",
   "version": "3.9.13"
  },
  "vscode": {
   "interpreter": {
    "hash": "949777d72b0d2535278d3dc13498b2535136f6dfe0678499012e853ee9abcab1"
   }
  }
 },
 "nbformat": 4,
 "nbformat_minor": 5
}
