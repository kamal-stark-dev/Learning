{
 "cells": [
  {
   "cell_type": "markdown",
   "id": "4e835ee3",
   "metadata": {},
   "source": [
    "## Control Flow"
   ]
  },
  {
   "cell_type": "markdown",
   "id": "2a65107b",
   "metadata": {},
   "source": [
    "### If / Else statements"
   ]
  },
  {
   "cell_type": "code",
   "execution_count": 1,
   "id": "03d16962",
   "metadata": {},
   "outputs": [
    {
     "name": "stdout",
     "output_type": "stream",
     "text": [
      "The condition is true.\n",
      "Another line which will be printed when the condition is true.\n",
      "This will always be executed.\n"
     ]
    }
   ],
   "source": [
    "if 2 > 1:\n",
    "    print(\"The condition is true.\")\n",
    "    print(\"Another line which will be printed when the condition is true.\")\n",
    "else:\n",
    "    print(\"THe condition is not true.\")\n",
    "\n",
    "print(\"This will always be executed.\")"
   ]
  },
  {
   "cell_type": "code",
   "execution_count": 8,
   "id": "c250abc7",
   "metadata": {},
   "outputs": [
    {
     "name": "stdout",
     "output_type": "stream",
     "text": [
      "It is true!\n",
      "Also print this\n",
      "Always print this\n"
     ]
    }
   ],
   "source": [
    "a = True\n",
    "b = False\n",
    "c = True\n",
    "if a:\n",
    "    print('It is true!')\n",
    "    print('Also print this')\n",
    "    if b:\n",
    "        print('Both are true')\n",
    "        if c:\n",
    "            print('All three are true')\n",
    "else:\n",
    "    print('It is false!')\n",
    "print('Always print this')"
   ]
  },
  {
   "cell_type": "code",
   "execution_count": 2,
   "id": "0cea26ee",
   "metadata": {},
   "outputs": [],
   "source": [
    "# to create a new cell press 'ESC' key to go out of the active state and then press 'b' to create a new cell below."
   ]
  },
  {
   "cell_type": "markdown",
   "id": "ecc930e8",
   "metadata": {},
   "source": [
    "### For loops"
   ]
  },
  {
   "cell_type": "code",
   "execution_count": 4,
   "id": "8b49fa67",
   "metadata": {},
   "outputs": [
    {
     "name": "stdout",
     "output_type": "stream",
     "text": [
      "1\n",
      "2\n",
      "3\n",
      "4\n",
      "5\n"
     ]
    }
   ],
   "source": [
    "a = [1, 2, 3, 4, 5]\n",
    "for number in a:\n",
    "    print(number)"
   ]
  },
  {
   "cell_type": "code",
   "execution_count": 5,
   "id": "55d76100",
   "metadata": {},
   "outputs": [
    {
     "data": {
      "text/plain": [
       "True"
      ]
     },
     "execution_count": 5,
     "metadata": {},
     "output_type": "execute_result"
    }
   ],
   "source": [
    "3 in a"
   ]
  },
  {
   "cell_type": "markdown",
   "id": "8b4d6361",
   "metadata": {},
   "source": [
    "### While loops"
   ]
  },
  {
   "cell_type": "code",
   "execution_count": 9,
   "id": "053eb644",
   "metadata": {},
   "outputs": [
    {
     "name": "stdout",
     "output_type": "stream",
     "text": [
      "1\n",
      "2\n",
      "3\n",
      "4\n",
      "5\n"
     ]
    }
   ],
   "source": [
    "i = 0\n",
    "my_list = [1, 2, 3, 4, 5]\n",
    "\n",
    "while i < len(my_list):\n",
    "    print(my_list[i])\n",
    "    i += 1"
   ]
  },
  {
   "cell_type": "code",
   "execution_count": 1,
   "id": "f8052766",
   "metadata": {},
   "outputs": [],
   "source": [
    "# haha car go vroom vroom boom boom brrrrrr......."
   ]
  }
 ],
 "metadata": {
  "kernelspec": {
   "display_name": "Python 3",
   "language": "python",
   "name": "python3"
  },
  "language_info": {
   "codemirror_mode": {
    "name": "ipython",
    "version": 3
   },
   "file_extension": ".py",
   "mimetype": "text/x-python",
   "name": "python",
   "nbconvert_exporter": "python",
   "pygments_lexer": "ipython3",
   "version": "3.12.7"
  }
 },
 "nbformat": 4,
 "nbformat_minor": 5
}
