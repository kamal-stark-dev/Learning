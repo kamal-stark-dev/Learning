{
 "cells": [
  {
   "cell_type": "markdown",
   "id": "fcb242f6",
   "metadata": {},
   "source": [
    "### Bytes"
   ]
  },
  {
   "cell_type": "code",
   "execution_count": 13,
   "id": "3c3ee6d8",
   "metadata": {},
   "outputs": [
    {
     "data": {
      "text/plain": [
       "b'\\x00'"
      ]
     },
     "execution_count": 13,
     "metadata": {},
     "output_type": "execute_result"
    }
   ],
   "source": [
    "bytes(1)\n",
    "# 2 hex - 2^4 and 2^4 = 2^8 = 1 Byte"
   ]
  },
  {
   "cell_type": "code",
   "execution_count": 15,
   "id": "5233edaf",
   "metadata": {},
   "outputs": [
    {
     "data": {
      "text/plain": [
       "b'\\x00\\x00\\x00\\x00'"
      ]
     },
     "execution_count": 15,
     "metadata": {},
     "output_type": "execute_result"
    }
   ],
   "source": [
    "bytes(4) # creates an empty string of 4 bytes size"
   ]
  },
  {
   "cell_type": "code",
   "execution_count": 7,
   "id": "9a254973",
   "metadata": {},
   "outputs": [
    {
     "data": {
      "text/plain": [
       "b'\\xf0\\x9f\\x99\\x84'"
      ]
     },
     "execution_count": 7,
     "metadata": {},
     "output_type": "execute_result"
    }
   ],
   "source": [
    "smileyBytes = bytes('🙄', 'utf-8')\n",
    "smileyBytes"
   ]
  },
  {
   "cell_type": "code",
   "execution_count": 16,
   "id": "a18b1572",
   "metadata": {},
   "outputs": [
    {
     "data": {
      "text/plain": [
       "'🙄'"
      ]
     },
     "execution_count": 16,
     "metadata": {},
     "output_type": "execute_result"
    }
   ],
   "source": [
    "smileyBytes.decode('utf-8')"
   ]
  },
  {
   "cell_type": "markdown",
   "id": "1dbfba93",
   "metadata": {},
   "source": [
    "We cannot modify bytes just like tuples, to do so you can use `bytearray`"
   ]
  },
  {
   "cell_type": "code",
   "execution_count": 20,
   "id": "48a506cd",
   "metadata": {},
   "outputs": [],
   "source": [
    "smileyBytes = bytearray('🙄', 'utf-8')"
   ]
  },
  {
   "cell_type": "code",
   "execution_count": 21,
   "id": "5e920566",
   "metadata": {},
   "outputs": [
    {
     "data": {
      "text/plain": [
       "bytearray(b'\\xf0\\x9f\\x99\\x84')"
      ]
     },
     "execution_count": 21,
     "metadata": {},
     "output_type": "execute_result"
    }
   ],
   "source": [
    "smileyBytes"
   ]
  },
  {
   "cell_type": "code",
   "execution_count": 23,
   "id": "6f5cb2b0",
   "metadata": {},
   "outputs": [],
   "source": [
    "smileyBytes[2] = int('9a', 16)"
   ]
  },
  {
   "cell_type": "code",
   "execution_count": 25,
   "id": "8b5cd28d",
   "metadata": {},
   "outputs": [
    {
     "data": {
      "text/plain": [
       "'🚄'"
      ]
     },
     "execution_count": 25,
     "metadata": {},
     "output_type": "execute_result"
    }
   ],
   "source": [
    "smileyBytes.decode('utf-8')"
   ]
  },
  {
   "cell_type": "code",
   "execution_count": 26,
   "id": "fd1a7b83",
   "metadata": {},
   "outputs": [],
   "source": [
    "# haha car go vroom vroom boom boom brrrrrr....."
   ]
  }
 ],
 "metadata": {
  "kernelspec": {
   "display_name": "Python 3",
   "language": "python",
   "name": "python3"
  },
  "language_info": {
   "codemirror_mode": {
    "name": "ipython",
    "version": 3
   },
   "file_extension": ".py",
   "mimetype": "text/x-python",
   "name": "python",
   "nbconvert_exporter": "python",
   "pygments_lexer": "ipython3",
   "version": "3.12.7"
  }
 },
 "nbformat": 4,
 "nbformat_minor": 5
}
