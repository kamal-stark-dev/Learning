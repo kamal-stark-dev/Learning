{
 "cells": [
  {
   "cell_type": "markdown",
   "id": "5cd90a72",
   "metadata": {},
   "source": [
    "## Converting Hexadecimal to Decimal\n"
   ]
  },
  {
   "cell_type": "code",
   "execution_count": 43,
   "id": "6f856dbf-cb3b-46f6-974c-2183088fc2eb",
   "metadata": {},
   "outputs": [
    {
     "data": {
      "text/plain": [
       "250"
      ]
     },
     "execution_count": 43,
     "metadata": {},
     "output_type": "execute_result"
    }
   ],
   "source": [
    "hexNumbers = {\n",
    "    '0': 0, '1': 1, '2': 2, '3': 3, '4': 4, '5': 5, '6': 6, '7': 7, '8': 8, '9': 9,\n",
    "    'A': 10, 'B': 11, 'C': 12, 'D': 13, 'E': 14, 'F': 15\n",
    "}\n",
    "\n",
    "def hexToDecimal(hexNum):\n",
    "    k = 0\n",
    "    decimal = 0\n",
    "    for i in hexNum[::-1]:\n",
    "        if i.upper() not in hexNumbers:\n",
    "            return None\n",
    "        decimal += hexNumbers[i.upper()] * (16**k)\n",
    "        k += 1\n",
    "    return decimal\n",
    "\n",
    "hexToDecimal('fa')"
   ]
  },
  {
   "cell_type": "code",
   "execution_count": 45,
   "id": "93e9b2af",
   "metadata": {},
   "outputs": [
    {
     "data": {
      "text/plain": [
       "16"
      ]
     },
     "execution_count": 45,
     "metadata": {},
     "output_type": "execute_result"
    }
   ],
   "source": [
    "hexNumbers = {\n",
    "    '0': 0, '1': 1, '2': 2, '3': 3, '4': 4, '5': 5, '6': 6, '7': 7, '8': 8, '9': 9,\n",
    "    'A': 10, 'B': 11, 'C': 12, 'D': 13, 'E': 14, 'F': 15\n",
    "}\n",
    "\n",
    "def hexToDecimal(hexNum):\n",
    "    for i in hexNum:\n",
    "        if i.upper() not in hexNumbers:\n",
    "            return None\n",
    "\n",
    "    decimal = 0\n",
    "    exp = len(hexNum) - 1\n",
    "    for i in hexNum:\n",
    "        decimal += hexNumbers[i.upper()] * (16 ** exp)\n",
    "        exp -= 1\n",
    "    return decimal\n",
    "\n",
    "hexToDecimal('10')"
   ]
  },
  {
   "cell_type": "markdown",
   "id": "b204bc4e",
   "metadata": {},
   "source": [
    "### Challenge Hints!"
   ]
  },
  {
   "cell_type": "markdown",
   "id": "41ca3358",
   "metadata": {},
   "source": [
    "**Hint 1:** The following will convert 'ABC' into a decimal:\n"
   ]
  },
  {
   "cell_type": "code",
   "execution_count": 2,
   "id": "31190f4a",
   "metadata": {},
   "outputs": [
    {
     "data": {
      "text/plain": [
       "2748"
      ]
     },
     "execution_count": 2,
     "metadata": {},
     "output_type": "execute_result"
    }
   ],
   "source": [
    "hexNumbers = {\n",
    "    '0': 0, '1': 1, '2': 2, '3': 3, '4': 4, '5': 5, '6': 6, '7': 7, '8': 8, '9': 9,\n",
    "    'A': 10, 'B': 11, 'C': 12, 'D': 13, 'E': 14, 'F': 15\n",
    "}\n",
    "\n",
    "hexNumbers['A'] * 256 + hexNumbers['B'] * 16 + hexNumbers['C']"
   ]
  },
  {
   "cell_type": "markdown",
   "id": "61a884ee",
   "metadata": {},
   "source": [
    "**Hint 2:** You can check to see how long the hex string is with:"
   ]
  },
  {
   "cell_type": "code",
   "execution_count": 4,
   "id": "7f4a3877",
   "metadata": {},
   "outputs": [
    {
     "data": {
      "text/plain": [
       "2"
      ]
     },
     "execution_count": 4,
     "metadata": {},
     "output_type": "execute_result"
    }
   ],
   "source": [
    "hexNum = '1B'\n",
    "len(hexNum)"
   ]
  },
  {
   "cell_type": "markdown",
   "id": "2893d9ef",
   "metadata": {},
   "source": [
    "**Hint 3:** You can get the character at each position of a string like this:"
   ]
  },
  {
   "cell_type": "code",
   "execution_count": 5,
   "id": "a9cb3333",
   "metadata": {},
   "outputs": [
    {
     "name": "stdout",
     "output_type": "stream",
     "text": [
      "A\n",
      "B\n",
      "C\n"
     ]
    }
   ],
   "source": [
    "hexNum = 'ABC'\n",
    "print(hexNum[0])\n",
    "print(hexNum[1])\n",
    "print(hexNum[2])\n"
   ]
  },
  {
   "cell_type": "code",
   "execution_count": 2,
   "id": "cfc54187",
   "metadata": {},
   "outputs": [],
   "source": [
    "hexNumbers = {\n",
    "    '0': 0, '1': 1, '2': 2, '3': 3, '4': 4, '5': 5, '6': 6, '7': 7, '8': 8, '9': 9,\n",
    "    'A': 10, 'B': 11, 'C': 12, 'D': 13, 'E': 14, 'F': 15\n",
    "}\n",
    "\n",
    "# Converts a string hexadecimal number into an integer decimal\n",
    "# If hexNum is not a valid hexadecimal number, returns None\n",
    "def hexToDec(hexNum):\n",
    "    pass"
   ]
  },
  {
   "cell_type": "markdown",
   "id": "db14e41c-81f1-4897-8bde-cd4855060fba",
   "metadata": {},
   "source": [
    "**Hint 4**: You can tell if every character in a string is a hex character like this:\n",
    "\n"
   ]
  },
  {
   "cell_type": "code",
   "execution_count": 3,
   "id": "6d4c987e-3b52-4679-9ae6-ce3115fd5fa9",
   "metadata": {},
   "outputs": [
    {
     "name": "stdout",
     "output_type": "stream",
     "text": [
      "Z is not a hex character!\n"
     ]
    }
   ],
   "source": [
    "myString = 'ABCZ'\n",
    "for char in myString:\n",
    "    if char not in hexNumbers:\n",
    "        print(f'{char} is not a hex character!')"
   ]
  },
  {
   "cell_type": "code",
   "execution_count": 44,
   "id": "3ae60510-e28e-48cb-a4a7-de383931faa6",
   "metadata": {},
   "outputs": [],
   "source": [
    "# haha car go vroom vroom boom boom brrrr....."
   ]
  }
 ],
 "metadata": {
  "kernelspec": {
   "display_name": "Python 3",
   "language": "python",
   "name": "python3"
  },
  "language_info": {
   "codemirror_mode": {
    "name": "ipython",
    "version": 3
   },
   "file_extension": ".py",
   "mimetype": "text/x-python",
   "name": "python",
   "nbconvert_exporter": "python",
   "pygments_lexer": "ipython3",
   "version": "3.12.7"
  }
 },
 "nbformat": 4,
 "nbformat_minor": 5
}
