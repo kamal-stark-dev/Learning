{
 "cells": [
  {
   "cell_type": "code",
   "execution_count": 39,
   "id": "a6cd1c0a",
   "metadata": {},
   "outputs": [],
   "source": [
    "from collections import defaultdict"
   ]
  },
  {
   "cell_type": "markdown",
   "id": "f635ede0",
   "metadata": {},
   "source": [
    "## Dictionaries"
   ]
  },
  {
   "cell_type": "code",
   "execution_count": 2,
   "id": "68d250c4",
   "metadata": {},
   "outputs": [],
   "source": [
    "animals = {\n",
    "    \"a\": \"antelope\",\n",
    "    \"b\": \"bear\",\n",
    "    \"c\": \"cat\"\n",
    "}"
   ]
  },
  {
   "cell_type": "code",
   "execution_count": 3,
   "id": "841f1cd7",
   "metadata": {},
   "outputs": [
    {
     "data": {
      "text/plain": [
       "'antelope'"
      ]
     },
     "execution_count": 3,
     "metadata": {},
     "output_type": "execute_result"
    }
   ],
   "source": [
    "animals['a']"
   ]
  },
  {
   "cell_type": "code",
   "execution_count": 6,
   "id": "04782755",
   "metadata": {},
   "outputs": [],
   "source": [
    "animals['d'] = 'dog'"
   ]
  },
  {
   "cell_type": "code",
   "execution_count": 7,
   "id": "c65fd4ff",
   "metadata": {},
   "outputs": [
    {
     "data": {
      "text/plain": [
       "{'a': 'antelope', 'b': 'bear', 'c': 'cat', 'd': 'dog'}"
      ]
     },
     "execution_count": 7,
     "metadata": {},
     "output_type": "execute_result"
    }
   ],
   "source": [
    "animals"
   ]
  },
  {
   "cell_type": "code",
   "execution_count": 9,
   "id": "1a5be2d9",
   "metadata": {},
   "outputs": [
    {
     "data": {
      "text/plain": [
       "{'a': 'antelope', 'b': 'bear', 'c': 'cheetah', 'd': 'dog'}"
      ]
     },
     "execution_count": 9,
     "metadata": {},
     "output_type": "execute_result"
    }
   ],
   "source": [
    "animals['c'] = \"cheetah\"\n",
    "animals"
   ]
  },
  {
   "cell_type": "code",
   "execution_count": 11,
   "id": "a55c6d44",
   "metadata": {},
   "outputs": [
    {
     "data": {
      "text/plain": [
       "dict_keys(['a', 'b', 'c', 'd'])"
      ]
     },
     "execution_count": 11,
     "metadata": {},
     "output_type": "execute_result"
    }
   ],
   "source": [
    "animals.keys()"
   ]
  },
  {
   "cell_type": "code",
   "execution_count": 12,
   "id": "4c851484",
   "metadata": {},
   "outputs": [
    {
     "data": {
      "text/plain": [
       "dict_values(['antelope', 'bear', 'cheetah', 'dog'])"
      ]
     },
     "execution_count": 12,
     "metadata": {},
     "output_type": "execute_result"
    }
   ],
   "source": [
    "animals.values()"
   ]
  },
  {
   "cell_type": "code",
   "execution_count": 16,
   "id": "f6c35bdc",
   "metadata": {},
   "outputs": [
    {
     "data": {
      "text/plain": [
       "['a', 'b', 'c', 'd']"
      ]
     },
     "execution_count": 16,
     "metadata": {},
     "output_type": "execute_result"
    }
   ],
   "source": [
    "list(animals.keys())"
   ]
  },
  {
   "cell_type": "code",
   "execution_count": 14,
   "id": "dcf867b7",
   "metadata": {},
   "outputs": [
    {
     "ename": "KeyError",
     "evalue": "'e'",
     "output_type": "error",
     "traceback": [
      "\u001b[1;31m---------------------------------------------------------------------------\u001b[0m",
      "\u001b[1;31mKeyError\u001b[0m                                  Traceback (most recent call last)",
      "Cell \u001b[1;32mIn[14], line 1\u001b[0m\n\u001b[1;32m----> 1\u001b[0m \u001b[43manimals\u001b[49m\u001b[43m[\u001b[49m\u001b[38;5;124;43m'\u001b[39;49m\u001b[38;5;124;43me\u001b[39;49m\u001b[38;5;124;43m'\u001b[39;49m\u001b[43m]\u001b[49m\n",
      "\u001b[1;31mKeyError\u001b[0m: 'e'"
     ]
    }
   ],
   "source": [
    "animals['e']"
   ]
  },
  {
   "cell_type": "code",
   "execution_count": 22,
   "id": "7c06306f",
   "metadata": {},
   "outputs": [
    {
     "data": {
      "text/plain": [
       "\"didn't find it\""
      ]
     },
     "execution_count": 22,
     "metadata": {},
     "output_type": "execute_result"
    }
   ],
   "source": [
    "animals.get('e', 'didn\\'t find it') # default"
   ]
  },
  {
   "cell_type": "code",
   "execution_count": 25,
   "id": "df87bf97",
   "metadata": {},
   "outputs": [
    {
     "data": {
      "text/plain": [
       "4"
      ]
     },
     "execution_count": 25,
     "metadata": {},
     "output_type": "execute_result"
    }
   ],
   "source": [
    "len(animals)"
   ]
  },
  {
   "cell_type": "code",
   "execution_count": 27,
   "id": "e1a8477a",
   "metadata": {},
   "outputs": [],
   "source": [
    "animals = {\n",
    "    'a': ['aardvark', 'antelope'],\n",
    "    'b': ['bear'],\n",
    "}"
   ]
  },
  {
   "cell_type": "code",
   "execution_count": 28,
   "id": "97b04f20",
   "metadata": {},
   "outputs": [],
   "source": [
    "animals['b'].append('bison')"
   ]
  },
  {
   "cell_type": "code",
   "execution_count": 32,
   "id": "f862d71c",
   "metadata": {},
   "outputs": [
    {
     "data": {
      "text/plain": [
       "{'a': ['aardvark', 'antelope'], 'b': ['bear', 'bison'], 'c': ['cat']}"
      ]
     },
     "execution_count": 32,
     "metadata": {},
     "output_type": "execute_result"
    }
   ],
   "source": [
    "animals['c'] = ['cat'] # we are adding list ['cat'] and not string 'cat'\n",
    "animals"
   ]
  },
  {
   "cell_type": "code",
   "execution_count": 38,
   "id": "ab292c6b",
   "metadata": {},
   "outputs": [
    {
     "data": {
      "text/plain": [
       "{'a': ['aardvark', 'antelope'], 'b': ['bear', 'bison'], 'c': ['cat']}"
      ]
     },
     "execution_count": 38,
     "metadata": {},
     "output_type": "execute_result"
    }
   ],
   "source": [
    "if 'c' not in animals:\n",
    "    animals['c'] = []\n",
    "\n",
    "animals['c'].append('cat')\n",
    "animals"
   ]
  },
  {
   "cell_type": "markdown",
   "id": "99f7f409",
   "metadata": {},
   "source": [
    "### The Default Dict"
   ]
  },
  {
   "cell_type": "code",
   "execution_count": 42,
   "id": "71803fe4",
   "metadata": {},
   "outputs": [],
   "source": [
    "# now you can use append without first needing to use `dict['key'] = []`\n",
    "animals = defaultdict(list)"
   ]
  },
  {
   "cell_type": "code",
   "execution_count": 43,
   "id": "57e747f6",
   "metadata": {},
   "outputs": [
    {
     "data": {
      "text/plain": [
       "defaultdict(list, {})"
      ]
     },
     "execution_count": 43,
     "metadata": {},
     "output_type": "execute_result"
    }
   ],
   "source": [
    "animals"
   ]
  },
  {
   "cell_type": "code",
   "execution_count": 44,
   "id": "faaa95e0",
   "metadata": {},
   "outputs": [
    {
     "data": {
      "text/plain": [
       "defaultdict(list, {'e': ['elephant']})"
      ]
     },
     "execution_count": 44,
     "metadata": {},
     "output_type": "execute_result"
    }
   ],
   "source": [
    "animals['e'].append('elephant')\n",
    "animals"
   ]
  },
  {
   "cell_type": "code",
   "execution_count": 45,
   "id": "b8fefdb6",
   "metadata": {},
   "outputs": [
    {
     "data": {
      "text/plain": [
       "defaultdict(list, {'e': ['elephant', 'emu']})"
      ]
     },
     "execution_count": 45,
     "metadata": {},
     "output_type": "execute_result"
    }
   ],
   "source": [
    "animals['e'].append('emu')\n",
    "animals"
   ]
  },
  {
   "cell_type": "code",
   "execution_count": 50,
   "id": "f8f53dc5",
   "metadata": {},
   "outputs": [
    {
     "data": {
      "text/plain": [
       "[]"
      ]
     },
     "execution_count": 50,
     "metadata": {},
     "output_type": "execute_result"
    }
   ],
   "source": [
    "animals['f'] # will return an empty list"
   ]
  },
  {
   "cell_type": "code",
   "execution_count": 47,
   "id": "6973288b",
   "metadata": {},
   "outputs": [],
   "source": [
    "# haha car go vroom vroom boom boom brrrr...."
   ]
  }
 ],
 "metadata": {
  "kernelspec": {
   "display_name": "Python 3",
   "language": "python",
   "name": "python3"
  },
  "language_info": {
   "codemirror_mode": {
    "name": "ipython",
    "version": 3
   },
   "file_extension": ".py",
   "mimetype": "text/x-python",
   "name": "python",
   "nbconvert_exporter": "python",
   "pygments_lexer": "ipython3",
   "version": "3.12.7"
  }
 },
 "nbformat": 4,
 "nbformat_minor": 5
}
