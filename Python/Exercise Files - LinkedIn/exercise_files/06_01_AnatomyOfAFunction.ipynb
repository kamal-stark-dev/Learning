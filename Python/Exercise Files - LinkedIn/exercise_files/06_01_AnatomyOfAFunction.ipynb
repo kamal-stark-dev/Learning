{
 "cells": [
  {
   "cell_type": "code",
   "execution_count": 1,
   "id": "b2f1bf7d",
   "metadata": {},
   "outputs": [],
   "source": [
    "import math"
   ]
  },
  {
   "cell_type": "markdown",
   "id": "e641afae",
   "metadata": {},
   "source": [
    "## Functions"
   ]
  },
  {
   "cell_type": "code",
   "execution_count": 2,
   "id": "5df05257",
   "metadata": {},
   "outputs": [
    {
     "data": {
      "text/plain": [
       "-1"
      ]
     },
     "execution_count": 2,
     "metadata": {},
     "output_type": "execute_result"
    }
   ],
   "source": [
    "def performOperation(num1, num2, operation):\n",
    "    if operation == 'sum':\n",
    "        return num1 + num2\n",
    "    if operation == 'multiply':\n",
    "        return num1 * num2\n",
    "    if operation == 'subtract':\n",
    "        return num1 - num2\n",
    "\n",
    "performOperation(2, 3, 'subtract')"
   ]
  },
  {
   "cell_type": "markdown",
   "id": "c5a6d86b",
   "metadata": {},
   "source": [
    "### Named Parameters"
   ]
  },
  {
   "cell_type": "code",
   "execution_count": 4,
   "id": "4ebd385a",
   "metadata": {},
   "outputs": [
    {
     "data": {
      "text/plain": [
       "5"
      ]
     },
     "execution_count": 4,
     "metadata": {},
     "output_type": "execute_result"
    }
   ],
   "source": [
    "def performOperation(num1, num2, operation='sum'): # setting the default value to `sum`\n",
    "    if operation == 'sum':\n",
    "        return num1 + num2\n",
    "    if operation == 'multiply':\n",
    "        return num1 * num2\n",
    "\n",
    "performOperation(2, 3) # the operation is defaulted to `sum`"
   ]
  },
  {
   "cell_type": "markdown",
   "id": "3c9c236a",
   "metadata": {},
   "source": [
    "Keyword arguments must come after positional arguments.\n",
    "\n",
    "Afterwards, keyword arguments can be in any order."
   ]
  },
  {
   "cell_type": "code",
   "execution_count": 5,
   "id": "2e45e600",
   "metadata": {},
   "outputs": [
    {
     "name": "stdout",
     "output_type": "stream",
     "text": [
      "A new message!\n"
     ]
    },
    {
     "data": {
      "text/plain": [
       "6"
      ]
     },
     "execution_count": 5,
     "metadata": {},
     "output_type": "execute_result"
    }
   ],
   "source": [
    "def performOperation(num1, num2, operation='sum', message='Default'):\n",
    "    print(message)\n",
    "    if operation == 'sum':\n",
    "        return num1 + num2\n",
    "    if operation == 'multiply':\n",
    "        return num1 * num2\n",
    "\n",
    "performOperation(2, 3, message='A new message!', operation='multiply')"
   ]
  },
  {
   "cell_type": "markdown",
   "id": "d7fa32cd",
   "metadata": {},
   "source": [
    "### *args"
   ]
  },
  {
   "cell_type": "code",
   "execution_count": 11,
   "id": "a958ca8f",
   "metadata": {},
   "outputs": [
    {
     "name": "stdout",
     "output_type": "stream",
     "text": [
      "(1, '2', 3.14, [4, 5])\n"
     ]
    }
   ],
   "source": [
    "def performOperation(*args):\n",
    "    print(args)\n",
    "\n",
    "performOperation(1, '2', 3.14, [4, 5])"
   ]
  },
  {
   "cell_type": "code",
   "execution_count": 13,
   "id": "64d83230",
   "metadata": {},
   "outputs": [
    {
     "ename": "TypeError",
     "evalue": "performOperation() got an unexpected keyword argument 'operation'",
     "output_type": "error",
     "traceback": [
      "\u001b[1;31m---------------------------------------------------------------------------\u001b[0m",
      "\u001b[1;31mTypeError\u001b[0m                                 Traceback (most recent call last)",
      "Cell \u001b[1;32mIn[13], line 1\u001b[0m\n\u001b[1;32m----> 1\u001b[0m \u001b[43mperformOperation\u001b[49m\u001b[43m(\u001b[49m\u001b[38;5;241;43m1\u001b[39;49m\u001b[43m,\u001b[49m\u001b[38;5;241;43m2\u001b[39;49m\u001b[43m,\u001b[49m\u001b[38;5;241;43m3\u001b[39;49m\u001b[43m,\u001b[49m\u001b[43m \u001b[49m\u001b[43moperation\u001b[49m\u001b[38;5;241;43m=\u001b[39;49m\u001b[38;5;124;43m'\u001b[39;49m\u001b[38;5;124;43msum\u001b[39;49m\u001b[38;5;124;43m'\u001b[39;49m\u001b[43m)\u001b[49m \u001b[38;5;66;03m# this doesn't work for the keyword arguments\u001b[39;00m\n",
      "\u001b[1;31mTypeError\u001b[0m: performOperation() got an unexpected keyword argument 'operation'"
     ]
    }
   ],
   "source": [
    "performOperation(1,2,3, operation='sum') # this doesn't work for the keyword arguments"
   ]
  },
  {
   "cell_type": "markdown",
   "id": "27d94525",
   "metadata": {},
   "source": [
    "### **kwargs"
   ]
  },
  {
   "cell_type": "markdown",
   "id": "3df6295b",
   "metadata": {},
   "source": [
    "To handel the keyword arguments you need to add `**kwargs`"
   ]
  },
  {
   "cell_type": "code",
   "execution_count": 18,
   "id": "a7359d98",
   "metadata": {},
   "outputs": [
    {
     "name": "stdout",
     "output_type": "stream",
     "text": [
      "Positional args:  (1, 2, 3)\n",
      "Keyword args:     {'operation': 'sum', 'title': 'kwargs'}\n"
     ]
    }
   ],
   "source": [
    "def performOperation(*args, **kwargs):\n",
    "    print('Positional args: ', args)\n",
    "    print('Keyword args:    ', kwargs)\n",
    "performOperation(1, 2, 3, operation='sum', title='kwargs')"
   ]
  },
  {
   "cell_type": "code",
   "execution_count": 26,
   "id": "92a644aa",
   "metadata": {},
   "outputs": [
    {
     "data": {
      "text/plain": [
       "24"
      ]
     },
     "execution_count": 26,
     "metadata": {},
     "output_type": "execute_result"
    }
   ],
   "source": [
    "def performOperation(*args, operation='sum'):\n",
    "    if operation == 'sum':\n",
    "        return sum(args)\n",
    "    elif operation == 'mul':\n",
    "        return math.prod(args)\n",
    "\n",
    "performOperation(1, 2, 3, 4, operation='mul')"
   ]
  },
  {
   "cell_type": "code",
   "execution_count": 22,
   "id": "57cd4de0",
   "metadata": {},
   "outputs": [],
   "source": [
    "# haha car go vroom vroom boom boom brrrrr........"
   ]
  }
 ],
 "metadata": {
  "kernelspec": {
   "display_name": "Python 3",
   "language": "python",
   "name": "python3"
  },
  "language_info": {
   "codemirror_mode": {
    "name": "ipython",
    "version": 3
   },
   "file_extension": ".py",
   "mimetype": "text/x-python",
   "name": "python",
   "nbconvert_exporter": "python",
   "pygments_lexer": "ipython3",
   "version": "3.12.7"
  }
 },
 "nbformat": 4,
 "nbformat_minor": 5
}
