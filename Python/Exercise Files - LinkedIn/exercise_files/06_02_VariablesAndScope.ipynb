{
 "cells": [
  {
   "cell_type": "markdown",
   "id": "a3234b19",
   "metadata": {},
   "source": [
    "## Function Scope"
   ]
  },
  {
   "cell_type": "code",
   "execution_count": 1,
   "id": "7e8c7923",
   "metadata": {},
   "outputs": [
    {
     "name": "stdout",
     "output_type": "stream",
     "text": [
      "(1, 2)\n",
      "{'operation': 'sum'}\n"
     ]
    }
   ],
   "source": [
    "def performOperation(*args, **kwargs):\n",
    "    print(args)\n",
    "    print(kwargs)\n",
    "\n",
    "performOperation(1, 2, operation='sum')"
   ]
  },
  {
   "cell_type": "markdown",
   "id": "3c713aa1",
   "metadata": {},
   "source": [
    "### locals()"
   ]
  },
  {
   "cell_type": "code",
   "execution_count": 8,
   "id": "1d65e494",
   "metadata": {},
   "outputs": [
    {
     "name": "stdout",
     "output_type": "stream",
     "text": [
      "{'num1': 1, 'num2': 2, 'operation': 'multiply', 'local_int': 10}\n"
     ]
    }
   ],
   "source": [
    "def performOperation(num1, num2, operation='sum'):\n",
    "    local_int = 10\n",
    "    print(locals()) # will print all the local items to this function\n",
    "\n",
    "performOperation(1, 2, operation='multiply')"
   ]
  },
  {
   "cell_type": "code",
   "execution_count": 6,
   "id": "21e0cd67",
   "metadata": {},
   "outputs": [
    {
     "name": "stdout",
     "output_type": "stream",
     "text": [
      "{'num1': 1, 'num2': 2, 'operation': 'multiply'}\n"
     ]
    },
    {
     "ename": "NameError",
     "evalue": "name 'num1' is not defined",
     "output_type": "error",
     "traceback": [
      "\u001b[1;31m---------------------------------------------------------------------------\u001b[0m",
      "\u001b[1;31mNameError\u001b[0m                                 Traceback (most recent call last)",
      "Cell \u001b[1;32mIn[6], line 5\u001b[0m\n\u001b[0;32m      2\u001b[0m     \u001b[38;5;28mprint\u001b[39m(\u001b[38;5;28mlocals\u001b[39m())\n\u001b[0;32m      4\u001b[0m performOperation(\u001b[38;5;241m1\u001b[39m, \u001b[38;5;241m2\u001b[39m, operation\u001b[38;5;241m=\u001b[39m\u001b[38;5;124m'\u001b[39m\u001b[38;5;124mmultiply\u001b[39m\u001b[38;5;124m'\u001b[39m)\n\u001b[1;32m----> 5\u001b[0m \u001b[38;5;28mprint\u001b[39m(\u001b[43mnum1\u001b[49m) \u001b[38;5;66;03m# this is local the above function and can't be used outside it\u001b[39;00m\n",
      "\u001b[1;31mNameError\u001b[0m: name 'num1' is not defined"
     ]
    }
   ],
   "source": [
    "def performOperation(num1, num2, operation='sum'):\n",
    "    print(locals())\n",
    "\n",
    "performOperation(1, 2, operation='multiply')\n",
    "print(num1) # this is local the above function and can't be used outside it"
   ]
  },
  {
   "cell_type": "markdown",
   "id": "cb7460d3",
   "metadata": {},
   "source": [
    "### globals()"
   ]
  },
  {
   "cell_type": "code",
   "execution_count": 7,
   "id": "224306e8",
   "metadata": {},
   "outputs": [
    {
     "data": {
      "text/plain": [
       "{'__name__': '__main__',\n",
       " '__doc__': 'Automatically created module for IPython interactive environment',\n",
       " '__package__': None,\n",
       " '__loader__': None,\n",
       " '__spec__': None,\n",
       " '__builtin__': <module 'builtins' (built-in)>,\n",
       " '__builtins__': <module 'builtins' (built-in)>,\n",
       " '_ih': ['',\n",
       "  \"def performOperation(*args, **kwargs):\\n    print(args)\\n    print(kwargs)\\n\\nperformOperation(1, 2, operation='sum')\",\n",
       "  \"def performOperation(num1, num2, operation='sum'):\\n    print(locals())\\n    \\nperformOperation(1, 2, operation='multiply')\\nprint(num1)\",\n",
       "  \"def performOperation(num1, num2, operation='sum'):\\n    print(locals())\\n\\nperformOperation(1, 2, operation='multiply')\\nprint(num1)\",\n",
       "  \"def performOperation(num1, num2, operation='sum'):\\n    print(locals())\\n\\nperformOperation(1, 2, operation='multiply')\",\n",
       "  \"def performOperation(num1, num2, operation='sum'):\\n    print(locals()) # will print all the local items to this function\\n\\nperformOperation(1, 2, operation='multiply')\",\n",
       "  \"def performOperation(num1, num2, operation='sum'):\\n    print(locals())\\n\\nperformOperation(1, 2, operation='multiply')\\nprint(num1) # this is local the above function and can't be used outside it\",\n",
       "  'globals()'],\n",
       " '_oh': {},\n",
       " '_dh': [WindowsPath('c:/Users/91638/Desktop/Learning MF/Learning/Python/Exercise Files/exercise_files')],\n",
       " 'In': ['',\n",
       "  \"def performOperation(*args, **kwargs):\\n    print(args)\\n    print(kwargs)\\n\\nperformOperation(1, 2, operation='sum')\",\n",
       "  \"def performOperation(num1, num2, operation='sum'):\\n    print(locals())\\n    \\nperformOperation(1, 2, operation='multiply')\\nprint(num1)\",\n",
       "  \"def performOperation(num1, num2, operation='sum'):\\n    print(locals())\\n\\nperformOperation(1, 2, operation='multiply')\\nprint(num1)\",\n",
       "  \"def performOperation(num1, num2, operation='sum'):\\n    print(locals())\\n\\nperformOperation(1, 2, operation='multiply')\",\n",
       "  \"def performOperation(num1, num2, operation='sum'):\\n    print(locals()) # will print all the local items to this function\\n\\nperformOperation(1, 2, operation='multiply')\",\n",
       "  \"def performOperation(num1, num2, operation='sum'):\\n    print(locals())\\n\\nperformOperation(1, 2, operation='multiply')\\nprint(num1) # this is local the above function and can't be used outside it\",\n",
       "  'globals()'],\n",
       " 'Out': {},\n",
       " 'get_ipython': <bound method InteractiveShell.get_ipython of <ipykernel.zmqshell.ZMQInteractiveShell object at 0x000001A669117500>>,\n",
       " 'exit': <IPython.core.autocall.ZMQExitAutocall at 0x1a669169d90>,\n",
       " 'quit': <IPython.core.autocall.ZMQExitAutocall at 0x1a669169d90>,\n",
       " 'open': <function _io.open(file, mode='r', buffering=-1, encoding=None, errors=None, newline=None, closefd=True, opener=None)>,\n",
       " '_': '',\n",
       " '__': '',\n",
       " '___': '',\n",
       " '__vsc_ipynb_file__': 'c:\\\\Users\\\\91638\\\\Desktop\\\\Learning MF\\\\Learning\\\\Python\\\\Exercise Files\\\\exercise_files\\\\06_02_VariablesAndScope.ipynb',\n",
       " '_i': \"def performOperation(num1, num2, operation='sum'):\\n    print(locals())\\n\\nperformOperation(1, 2, operation='multiply')\\nprint(num1) # this is local the above function and can't be used outside it\",\n",
       " '_ii': \"def performOperation(num1, num2, operation='sum'):\\n    print(locals()) # will print all the local items to this function\\n\\nperformOperation(1, 2, operation='multiply')\",\n",
       " '_iii': \"def performOperation(num1, num2, operation='sum'):\\n    print(locals())\\n\\nperformOperation(1, 2, operation='multiply')\",\n",
       " '_i1': \"def performOperation(*args, **kwargs):\\n    print(args)\\n    print(kwargs)\\n\\nperformOperation(1, 2, operation='sum')\",\n",
       " 'performOperation': <function __main__.performOperation(num1, num2, operation='sum')>,\n",
       " '_i2': \"def performOperation(num1, num2, operation='sum'):\\n    print(locals())\\n    \\nperformOperation(1, 2, operation='multiply')\\nprint(num1)\",\n",
       " '_i3': \"def performOperation(num1, num2, operation='sum'):\\n    print(locals())\\n\\nperformOperation(1, 2, operation='multiply')\\nprint(num1)\",\n",
       " '_i4': \"def performOperation(num1, num2, operation='sum'):\\n    print(locals())\\n\\nperformOperation(1, 2, operation='multiply')\",\n",
       " '_i5': \"def performOperation(num1, num2, operation='sum'):\\n    print(locals()) # will print all the local items to this function\\n\\nperformOperation(1, 2, operation='multiply')\",\n",
       " '_i6': \"def performOperation(num1, num2, operation='sum'):\\n    print(locals())\\n\\nperformOperation(1, 2, operation='multiply')\\nprint(num1) # this is local the above function and can't be used outside it\",\n",
       " '_i7': 'globals()'}"
      ]
     },
     "execution_count": 7,
     "metadata": {},
     "output_type": "execute_result"
    }
   ],
   "source": [
    "globals()"
   ]
  },
  {
   "cell_type": "markdown",
   "id": "e4f3ceba",
   "metadata": {},
   "source": [
    "### Global and Local scope"
   ]
  },
  {
   "cell_type": "code",
   "execution_count": 10,
   "id": "ac5ac1b9",
   "metadata": {},
   "outputs": [
    {
     "name": "stdout",
     "output_type": "stream",
     "text": [
      "Some global data\n",
      "{'varA': 1, 'varB': 2}\n",
      "Some global data\n",
      "{'varC': 3, 'varB': 4}\n"
     ]
    }
   ],
   "source": [
    "message = 'Some global data'\n",
    "\n",
    "def function1(varA, varB):\n",
    "    print(message)\n",
    "    print(locals())\n",
    "\n",
    "\n",
    "def function2(varC, varB):\n",
    "    print(message)\n",
    "    print(locals())\n",
    "\n",
    "function1(1, 2)\n",
    "function2(3, 4)"
   ]
  },
  {
   "cell_type": "code",
   "execution_count": 20,
   "id": "34839606",
   "metadata": {},
   "outputs": [
    {
     "name": "stdout",
     "output_type": "stream",
     "text": [
      "1\n",
      "Some local data\n",
      "{'varA': 1, 'varB': 2, 'message': 'Some local data'}\n",
      "2\n",
      "Some global data\n",
      "{'varC': 3, 'varB': 4}\n"
     ]
    }
   ],
   "source": [
    "message = 'Some global data'\n",
    "varA = 2\n",
    "def function1(varA, varB):\n",
    "    message = 'Some local data'\n",
    "    print(varA) # local scope - passed 1\n",
    "    print(message)\n",
    "    print(locals())\n",
    "\n",
    "\n",
    "def function2(varC, varB):\n",
    "    print(varA) # global scope - value 2\n",
    "    print(message)\n",
    "    print(locals())\n",
    "\n",
    "function1(1, 2)\n",
    "function2(3, 4)"
   ]
  },
  {
   "cell_type": "code",
   "execution_count": 15,
   "id": "fb5b1343",
   "metadata": {},
   "outputs": [
    {
     "name": "stdout",
     "output_type": "stream",
     "text": [
      "1\n",
      "inner_function local scope: {'varA': 123, 'varB': 456}\n"
     ]
    }
   ],
   "source": [
    "def function1(varA, varB):\n",
    "    message = 'Some local data'\n",
    "    print(varA)\n",
    "    def inner_function(varA, varB):\n",
    "        print(f'inner_function local scope: {locals()}')\n",
    "\n",
    "    inner_function(123, 456)\n",
    "\n",
    "\n",
    "function1(1, 2)\n"
   ]
  },
  {
   "cell_type": "code",
   "execution_count": 14,
   "id": "8930f2aa",
   "metadata": {},
   "outputs": [
    {
     "name": "stdout",
     "output_type": "stream",
     "text": [
      "1\n",
      "{'varA': 1, 'varB': 2, 'message': 'Some local data', 'inner_function': <function function1.<locals>.inner_function at 0x000001A669F63C40>}\n",
      "inner_function local scope: {'varA': 123, 'varB': 456}\n"
     ]
    }
   ],
   "source": [
    "def function1(varA, varB):\n",
    "    message = 'Some local data'\n",
    "    print(varA)\n",
    "    def inner_function(varA, varB):\n",
    "        print(f'inner_function local scope: {locals()}')\n",
    "\n",
    "    print(locals())\n",
    "    inner_function(123, 456)\n",
    "    # and this is how the function works and returns the local variables\n",
    "\n",
    "function1(1, 2)"
   ]
  },
  {
   "cell_type": "code",
   "execution_count": 21,
   "id": "e12c6b2e",
   "metadata": {},
   "outputs": [],
   "source": [
    "# haha car go vroom vroom boom boom brrrr....."
   ]
  }
 ],
 "metadata": {
  "kernelspec": {
   "display_name": "Python 3",
   "language": "python",
   "name": "python3"
  },
  "language_info": {
   "codemirror_mode": {
    "name": "ipython",
    "version": 3
   },
   "file_extension": ".py",
   "mimetype": "text/x-python",
   "name": "python",
   "nbconvert_exporter": "python",
   "pygments_lexer": "ipython3",
   "version": "3.12.7"
  }
 },
 "nbformat": 4,
 "nbformat_minor": 5
}
