{
 "cells": [
  {
   "cell_type": "markdown",
   "id": "6aa3058e",
   "metadata": {},
   "source": [
    "## Squaring Up"
   ]
  },
  {
   "cell_type": "markdown",
   "id": "5af7d03e",
   "metadata": {},
   "source": [
    "**HINT 1:** Two triangles, when added together, make a square"
   ]
  },
  {
   "cell_type": "markdown",
   "id": "904577f5",
   "metadata": {},
   "source": [
    "**HINT 2:** Your two triangles will be of different sizes"
   ]
  },
  {
   "cell_type": "markdown",
   "id": "9b094dfc-9e6e-40f8-a343-aee8db57af38",
   "metadata": {},
   "source": [
    "**HINT 3:** Here are some examples for you:\n",
    "\n",
    "triangle(2) + triangle(3) = 3 + 6 = 9\n",
    "\n",
    "triangle(3) + triangle(4) = 6 + 10 = 16"
   ]
  },
  {
   "cell_type": "code",
   "execution_count": 32,
   "id": "687b1069-7a8c-46bc-b1c6-6ab94fe4a1e7",
   "metadata": {},
   "outputs": [
    {
     "data": {
      "text/plain": [
       "[1, 4, 9, 16, 25, 36, 49, 64, 81, 100]"
      ]
     },
     "execution_count": 32,
     "metadata": {},
     "output_type": "execute_result"
    }
   ],
   "source": [
    "def triangle(num):\n",
    "    if num < 1:\n",
    "        return 0\n",
    "    if num == 1:\n",
    "        return 1\n",
    "    return num + triangle(num - 1)\n",
    "\n",
    "def square(num):\n",
    "    return triangle(num) + triangle(num - 1) # two triangles like this makes up a square\n",
    "\n",
    "[square(x) for x in range(1, 11)]"
   ]
  }
 ],
 "metadata": {
  "kernelspec": {
   "display_name": "Python 3",
   "language": "python",
   "name": "python3"
  },
  "language_info": {
   "codemirror_mode": {
    "name": "ipython",
    "version": 3
   },
   "file_extension": ".py",
   "mimetype": "text/x-python",
   "name": "python",
   "nbconvert_exporter": "python",
   "pygments_lexer": "ipython3",
   "version": "3.12.7"
  }
 },
 "nbformat": 4,
 "nbformat_minor": 5
}
