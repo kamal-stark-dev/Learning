{
 "cells": [
  {
   "cell_type": "markdown",
   "id": "ca340ac5",
   "metadata": {},
   "source": [
    "## Static and Instance Methods"
   ]
  },
  {
   "cell_type": "code",
   "execution_count": null,
   "id": "abae6b1e",
   "metadata": {},
   "outputs": [
    {
     "name": "stdout",
     "output_type": "stream",
     "text": [
      "{'im', 'kamal', 'another', 'hi', 'want', 'sentence', 'is', 'a', 'add', 'here', 'to', 'i'}\n"
     ]
    }
   ],
   "source": [
    "class WordSet:\n",
    "    def __init__(self):\n",
    "        self.words = set()\n",
    "\n",
    "    def addText(self, text):\n",
    "        text = WordSet.cleanText(text)    # static function / methods\n",
    "        for word in text.split():\n",
    "            self.words.add(word)\n",
    "\n",
    "\n",
    "    def cleanText(text):\n",
    "        # chaining functions\n",
    "        text = text.replace('!', '').replace('.', '').replace(',', '').replace('\\'', '')\n",
    "        return text.lower()\n",
    "\n",
    "\n",
    "wordSet = WordSet()\n",
    "\n",
    "wordSet.addText('Hi, I\\'m Kamal! Here is a sentence I want to add!')\n",
    "wordSet.addText('Here is another sentence I want to add.')\n",
    "\n",
    "print(wordSet.words)"
   ]
  },
  {
   "cell_type": "code",
   "execution_count": 8,
   "id": "b022da1d",
   "metadata": {},
   "outputs": [
    {
     "name": "stdout",
     "output_type": "stream",
     "text": [
      "{'im', 'another', 'hi', 'want', 'sentence', 'is', 'ryan', 'a', 'add', 'here', 'to', 'i'}\n"
     ]
    }
   ],
   "source": [
    "class WordSet:\n",
    "    replacePuncs = ['!', '.', ',', '\\'']\n",
    "    def __init__(self):\n",
    "        self.words = set()\n",
    "\n",
    "    def addText(self, text):\n",
    "        text = WordSet.cleanText(text)\n",
    "        for word in text.split():\n",
    "            self.words.add(word)\n",
    "\n",
    "\n",
    "    def cleanText(text):\n",
    "        # chaining functions\n",
    "        for punc in WordSet.replacePuncs:\n",
    "            text = text.replace(punc, '')\n",
    "        return text.lower()\n",
    "\n",
    "\n",
    "wordSet = WordSet()\n",
    "\n",
    "wordSet.addText('Hi, I\\'m Ryan! Here is a sentence I want to add!')\n",
    "wordSet.addText('Here is another sentence I want to add.')\n",
    "\n",
    "print(wordSet.words)"
   ]
  },
  {
   "cell_type": "markdown",
   "id": "bec9bbe4",
   "metadata": {},
   "source": [
    "### Decorators "
   ]
  },
  {
   "cell_type": "code",
   "execution_count": 11,
   "id": "87b6c48c",
   "metadata": {},
   "outputs": [
    {
     "name": "stdout",
     "output_type": "stream",
     "text": [
      "{'im', 'another', 'hi', 'want', 'sentence', 'is', 'ryan', 'a', 'add', 'here', 'to', 'i'}\n"
     ]
    }
   ],
   "source": [
    "class WordSet:\n",
    "    replacePuncs = ['!', '.', ',', '\\'']\n",
    "    def __init__(self):\n",
    "        self.words = set()\n",
    "\n",
    "    def addText(self, text):\n",
    "        text = self.cleanText(text)\n",
    "        for word in text.split():\n",
    "            self.words.add(word)\n",
    "\n",
    "    @staticmethod    # explicitly telling python that it's static method\n",
    "    def cleanText(text):\n",
    "        # chaining functions\n",
    "        for punc in WordSet.replacePuncs:\n",
    "            text = text.replace(punc, '')\n",
    "        return text.lower()\n",
    "\n",
    "\n",
    "wordSet = WordSet()\n",
    "\n",
    "wordSet.addText('Hi, I\\'m Ryan! Here is a sentence I want to add!')\n",
    "wordSet.addText('Here is another sentence I want to add.')\n",
    "\n",
    "print(wordSet.words)"
   ]
  },
  {
   "cell_type": "code",
   "execution_count": 10,
   "id": "bf70671d",
   "metadata": {},
   "outputs": [],
   "source": [
    "# haha car go vroom vroom boom boom brrrrrrr........"
   ]
  }
 ],
 "metadata": {
  "kernelspec": {
   "display_name": "Python 3",
   "language": "python",
   "name": "python3"
  },
  "language_info": {
   "codemirror_mode": {
    "name": "ipython",
    "version": 3
   },
   "file_extension": ".py",
   "mimetype": "text/x-python",
   "name": "python",
   "nbconvert_exporter": "python",
   "pygments_lexer": "ipython3",
   "version": "3.12.7"
  }
 },
 "nbformat": 4,
 "nbformat_minor": 5
}
