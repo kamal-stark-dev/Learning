{
 "cells": [
  {
   "cell_type": "markdown",
   "id": "b0f022fe",
   "metadata": {},
   "source": [
    "## Custom Exceptions"
   ]
  },
  {
   "cell_type": "code",
   "execution_count": 6,
   "id": "96040e72",
   "metadata": {},
   "outputs": [
    {
     "name": "stdout",
     "output_type": "stream",
     "text": [
      "Dividing by zero error!\n"
     ]
    }
   ],
   "source": [
    "def handleExceptions(func):\n",
    "    def wrapper(*args):\n",
    "        try:\n",
    "            func(*args)\n",
    "        except ZeroDivisionError:\n",
    "            print('Dividing by zero error!')\n",
    "        except TypeError:\n",
    "            print('Type error!')\n",
    "        except Exception:\n",
    "            print('There was some sort of exception!')\n",
    "    return wrapper\n",
    "\n",
    "@handleExceptions\n",
    "def hello():\n",
    "    return 1 / 0\n",
    "\n",
    "hello()"
   ]
  },
  {
   "cell_type": "code",
   "execution_count": 10,
   "id": "a15ba290",
   "metadata": {},
   "outputs": [
    {
     "ename": "CustomException",
     "evalue": "A custom error occured!",
     "output_type": "error",
     "traceback": [
      "\u001b[1;31m---------------------------------------------------------------------------\u001b[0m",
      "\u001b[1;31mCustomException\u001b[0m                           Traceback (most recent call last)",
      "Cell \u001b[1;32mIn[10], line 8\u001b[0m\n\u001b[0;32m      5\u001b[0m \u001b[38;5;28;01mdef\u001b[39;00m \u001b[38;5;21mcauseError\u001b[39m():\n\u001b[0;32m      6\u001b[0m     \u001b[38;5;28;01mraise\u001b[39;00m CustomException(\u001b[38;5;124m'\u001b[39m\u001b[38;5;124mA custom error occured!\u001b[39m\u001b[38;5;124m'\u001b[39m)\n\u001b[1;32m----> 8\u001b[0m \u001b[43mcauseError\u001b[49m\u001b[43m(\u001b[49m\u001b[43m)\u001b[49m\n",
      "Cell \u001b[1;32mIn[10], line 6\u001b[0m, in \u001b[0;36mcauseError\u001b[1;34m()\u001b[0m\n\u001b[0;32m      5\u001b[0m \u001b[38;5;28;01mdef\u001b[39;00m \u001b[38;5;21mcauseError\u001b[39m():\n\u001b[1;32m----> 6\u001b[0m     \u001b[38;5;28;01mraise\u001b[39;00m CustomException(\u001b[38;5;124m'\u001b[39m\u001b[38;5;124mA custom error occured!\u001b[39m\u001b[38;5;124m'\u001b[39m)\n",
      "\u001b[1;31mCustomException\u001b[0m: A custom error occured!"
     ]
    }
   ],
   "source": [
    "class CustomException(Exception):\n",
    "    pass\n",
    "\n",
    "\n",
    "def causeError():\n",
    "    raise CustomException('A custom error occured!')\n",
    "\n",
    "causeError()"
   ]
  },
  {
   "cell_type": "markdown",
   "id": "b0cae9c9",
   "metadata": {},
   "source": [
    "### Adding Attributes"
   ]
  },
  {
   "cell_type": "code",
   "execution_count": null,
   "id": "1b6caf83",
   "metadata": {},
   "outputs": [
    {
     "ename": "ServerError",
     "evalue": "Status code: 500 and message is: The server messed up!",
     "output_type": "error",
     "traceback": [
      "\u001b[0;31m---------------------------------------------------------------------------\u001b[0m",
      "\u001b[0;31mServerError\u001b[0m                               Traceback (most recent call last)",
      "Input \u001b[0;32mIn [4]\u001b[0m, in \u001b[0;36m<module>\u001b[0;34m\u001b[0m\n\u001b[1;32m     15\u001b[0m \u001b[38;5;28;01mdef\u001b[39;00m \u001b[38;5;21mraiseServerError\u001b[39m():\n\u001b[1;32m     16\u001b[0m     \u001b[38;5;28;01mraise\u001b[39;00m ServerError()\n\u001b[0;32m---> 18\u001b[0m \u001b[43mraiseServerError\u001b[49m\u001b[43m(\u001b[49m\u001b[43m)\u001b[49m\n",
      "Input \u001b[0;32mIn [4]\u001b[0m, in \u001b[0;36mraiseServerError\u001b[0;34m()\u001b[0m\n\u001b[1;32m     15\u001b[0m \u001b[38;5;28;01mdef\u001b[39;00m \u001b[38;5;21mraiseServerError\u001b[39m():\n\u001b[0;32m---> 16\u001b[0m     \u001b[38;5;28;01mraise\u001b[39;00m ServerError()\n",
      "\u001b[0;31mServerError\u001b[0m: Status code: 500 and message is: The server messed up!"
     ]
    }
   ],
   "source": [
    "class HttpException(Exception):\n",
    "    statusCode = None\n",
    "    message = None\n",
    "    def __init__(self):\n",
    "        super().__init__(f'Status code: {self.statusCode} and message is: {self.message}')\n",
    "\n",
    "class NotFound(HttpException):\n",
    "    statusCode = 404\n",
    "    message = 'Resource not found'\n",
    "\n",
    "class ServerError(HttpException):\n",
    "    statusCode = 500\n",
    "    message = 'The server messed up!'\n",
    "\n",
    "def raiseServerError():\n",
    "    raise ServerError()\n",
    "\n",
    "raiseServerError()"
   ]
  },
  {
   "cell_type": "code",
   "execution_count": 18,
   "id": "69de88f1",
   "metadata": {},
   "outputs": [
    {
     "ename": "NotFound",
     "evalue": "Status Code: 404 Message: File not found!!",
     "output_type": "error",
     "traceback": [
      "\u001b[1;31m---------------------------------------------------------------------------\u001b[0m",
      "\u001b[1;31mNotFound\u001b[0m                                  Traceback (most recent call last)",
      "Cell \u001b[1;32mIn[18], line 14\u001b[0m\n\u001b[0;32m     11\u001b[0m \u001b[38;5;28;01mdef\u001b[39;00m \u001b[38;5;21mcauseNotFound\u001b[39m():\n\u001b[0;32m     12\u001b[0m     \u001b[38;5;28;01mraise\u001b[39;00m NotFound()\n\u001b[1;32m---> 14\u001b[0m \u001b[43mcauseNotFound\u001b[49m\u001b[43m(\u001b[49m\u001b[43m)\u001b[49m\n",
      "Cell \u001b[1;32mIn[18], line 12\u001b[0m, in \u001b[0;36mcauseNotFound\u001b[1;34m()\u001b[0m\n\u001b[0;32m     11\u001b[0m \u001b[38;5;28;01mdef\u001b[39;00m \u001b[38;5;21mcauseNotFound\u001b[39m():\n\u001b[1;32m---> 12\u001b[0m     \u001b[38;5;28;01mraise\u001b[39;00m NotFound()\n",
      "\u001b[1;31mNotFound\u001b[0m: Status Code: 404 Message: File not found!!"
     ]
    }
   ],
   "source": [
    "class HandleException(Exception):\n",
    "    statusCode = None\n",
    "    message = None\n",
    "    def __init__(self):\n",
    "        super().__init__(f'Status Code: {self.statusCode} Message: {self.message}')\n",
    "\n",
    "class NotFound(HandleException):\n",
    "    statusCode = 404\n",
    "    message = 'File not found!!'\n",
    "\n",
    "def causeNotFound():\n",
    "    raise NotFound()\n",
    "\n",
    "causeNotFound()"
   ]
  },
  {
   "cell_type": "code",
   "execution_count": 19,
   "id": "2eabeda5",
   "metadata": {},
   "outputs": [],
   "source": [
    "# haha car go vroom vroom boom boom brrrrrrrrr..........."
   ]
  }
 ],
 "metadata": {
  "kernelspec": {
   "display_name": "Python 3",
   "language": "python",
   "name": "python3"
  },
  "language_info": {
   "codemirror_mode": {
    "name": "ipython",
    "version": 3
   },
   "file_extension": ".py",
   "mimetype": "text/x-python",
   "name": "python",
   "nbconvert_exporter": "python",
   "pygments_lexer": "ipython3",
   "version": "3.12.7"
  }
 },
 "nbformat": 4,
 "nbformat_minor": 5
}
