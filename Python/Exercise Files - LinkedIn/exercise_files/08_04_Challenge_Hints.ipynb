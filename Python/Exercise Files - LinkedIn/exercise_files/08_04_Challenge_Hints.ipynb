{
 "cells": [
  {
   "cell_type": "markdown",
   "id": "5493bdf7",
   "metadata": {},
   "source": [
    "## Bad Arguments\n"
   ]
  },
  {
   "cell_type": "markdown",
   "id": "7e61d190",
   "metadata": {},
   "source": [
    "### Challenge Hints!\n",
    "\n",
    "**HINT 1:** To be clear, you do need to write your NonIntArgumentException class. I suggest something like:"
   ]
  },
  {
   "cell_type": "code",
   "execution_count": 1,
   "id": "0a0528dc",
   "metadata": {},
   "outputs": [],
   "source": [
    "class NonIntArgumentException(Exception):\n",
    "    pass"
   ]
  },
  {
   "cell_type": "markdown",
   "id": "32f67063",
   "metadata": {},
   "source": [
    "**HINT 2:** Review the example we used in 08_02_HandlingException.ipynb (copied below). How would you modify this to examine the arguments (args) passed into the function before calling the function? \n"
   ]
  },
  {
   "cell_type": "code",
   "execution_count": 2,
   "id": "23429ac0-a013-4d76-aec7-7f069e66bc9d",
   "metadata": {},
   "outputs": [
    {
     "name": "stdout",
     "output_type": "stream",
     "text": [
      "There was a zero division error!\n"
     ]
    }
   ],
   "source": [
    "def handleException(func):\n",
    "    def wrapper(*args):\n",
    "        try:\n",
    "            func(*args)\n",
    "        except TypeError:\n",
    "            print('There was a type error!')\n",
    "        except ZeroDivisionError:\n",
    "            print('There was a zero division error!')\n",
    "        except Exception:\n",
    "            print('There was some sort of error!')\n",
    "    return wrapper\n",
    "\n",
    "@handleException\n",
    "def causeError():\n",
    "    return 1/0\n",
    "\n",
    "causeError()"
   ]
  },
  {
   "cell_type": "markdown",
   "id": "db53f14d",
   "metadata": {},
   "source": [
    "**Hint 3:** Remember that args is just an iterable tuple of arguments. You can examine them like this:"
   ]
  },
  {
   "cell_type": "code",
   "execution_count": 4,
   "id": "e80893e9",
   "metadata": {},
   "outputs": [
    {
     "name": "stdout",
     "output_type": "stream",
     "text": [
      "a is not not an integer!\n"
     ]
    }
   ],
   "source": [
    "args = (1, 2, 3, 'a')\n",
    "\n",
    "for arg in args:\n",
    "    if type(arg) is not int:\n",
    "        print(f'{arg} is not not an integer!')"
   ]
  },
  {
   "cell_type": "code",
   "execution_count": 15,
   "id": "c5dcb59a",
   "metadata": {},
   "outputs": [
    {
     "ename": "NotInteger",
     "evalue": "non-integer value passed",
     "output_type": "error",
     "traceback": [
      "\u001b[1;31m---------------------------------------------------------------------------\u001b[0m",
      "\u001b[1;31mNotInteger\u001b[0m                                Traceback (most recent call last)",
      "Cell \u001b[1;32mIn[15], line 19\u001b[0m\n\u001b[0;32m     16\u001b[0m         \u001b[38;5;28msum\u001b[39m \u001b[38;5;241m+\u001b[39m\u001b[38;5;241m=\u001b[39m i\n\u001b[0;32m     17\u001b[0m     \u001b[38;5;28;01mreturn\u001b[39;00m \u001b[38;5;28msum\u001b[39m\n\u001b[1;32m---> 19\u001b[0m \u001b[43maddInts\u001b[49m\u001b[43m(\u001b[49m\u001b[38;5;241;43m1\u001b[39;49m\u001b[43m,\u001b[49m\u001b[43m \u001b[49m\u001b[38;5;241;43m2\u001b[39;49m\u001b[43m,\u001b[49m\u001b[43m \u001b[49m\u001b[38;5;241;43m3\u001b[39;49m\u001b[43m,\u001b[49m\u001b[43m \u001b[49m\u001b[38;5;124;43m'\u001b[39;49m\u001b[38;5;124;43ma\u001b[39;49m\u001b[38;5;124;43m'\u001b[39;49m\u001b[43m)\u001b[49m\n",
      "Cell \u001b[1;32mIn[15], line 8\u001b[0m, in \u001b[0;36mhandleException.<locals>.wrapper\u001b[1;34m(*args)\u001b[0m\n\u001b[0;32m      6\u001b[0m \u001b[38;5;28;01mfor\u001b[39;00m item \u001b[38;5;129;01min\u001b[39;00m args:\n\u001b[0;32m      7\u001b[0m     \u001b[38;5;28;01mif\u001b[39;00m \u001b[38;5;28mtype\u001b[39m(item) \u001b[38;5;129;01mis\u001b[39;00m \u001b[38;5;129;01mnot\u001b[39;00m \u001b[38;5;28mint\u001b[39m:\n\u001b[1;32m----> 8\u001b[0m         \u001b[38;5;28;01mraise\u001b[39;00m NotInteger(\u001b[38;5;124m'\u001b[39m\u001b[38;5;124mnon-integer value passed\u001b[39m\u001b[38;5;124m'\u001b[39m)\n\u001b[0;32m      9\u001b[0m \u001b[38;5;28;01mreturn\u001b[39;00m func(\u001b[38;5;241m*\u001b[39margs)\n",
      "\u001b[1;31mNotInteger\u001b[0m: non-integer value passed"
     ]
    }
   ],
   "source": [
    "class NotInteger(Exception):\n",
    "    pass\n",
    "\n",
    "def handleException(func):\n",
    "    def wrapper(*args):\n",
    "        for item in args:\n",
    "            if type(item) is not int:\n",
    "                raise NotInteger('non-integer value passed')\n",
    "        return func(*args)\n",
    "    return wrapper\n",
    "\n",
    "@handleException\n",
    "def addInts(*args):\n",
    "    sum = 0\n",
    "    for i in args:\n",
    "        sum += i\n",
    "    return sum\n",
    "\n",
    "addInts(1, 2, 3, 'a')"
   ]
  },
  {
   "cell_type": "code",
   "execution_count": 16,
   "id": "e4f0988b",
   "metadata": {},
   "outputs": [],
   "source": [
    "# haha car go vroom vroom boom boom brrrrrrrrrr............"
   ]
  }
 ],
 "metadata": {
  "kernelspec": {
   "display_name": "Python 3",
   "language": "python",
   "name": "python3"
  },
  "language_info": {
   "codemirror_mode": {
    "name": "ipython",
    "version": 3
   },
   "file_extension": ".py",
   "mimetype": "text/x-python",
   "name": "python",
   "nbconvert_exporter": "python",
   "pygments_lexer": "ipython3",
   "version": "3.12.7"
  }
 },
 "nbformat": 4,
 "nbformat_minor": 5
}
