{
 "cells": [
  {
   "cell_type": "code",
   "execution_count": 1,
   "id": "34fcf0b8",
   "metadata": {},
   "outputs": [],
   "source": [
    "from multiprocess import Process\n",
    "import threading\n",
    "import time"
   ]
  },
  {
   "cell_type": "markdown",
   "id": "b9bc0c6f",
   "metadata": {},
   "source": [
    "## Processes"
   ]
  },
  {
   "cell_type": "markdown",
   "id": "0ad4f643",
   "metadata": {},
   "source": [
    "Here multiprocesses are created and runs in different processors."
   ]
  },
  {
   "cell_type": "code",
   "execution_count": 29,
   "id": "dd6e9e78",
   "metadata": {},
   "outputs": [
    {
     "name": "stdout",
     "output_type": "stream",
     "text": [
      "{}\n"
     ]
    }
   ],
   "source": [
    "def longSquare(num, results):\n",
    "    print('num^2 =', num ** 2)\n",
    "    results[num] = num ** 2\n",
    "\n",
    "results = {}\n",
    "threads = [Process(target=longSquare, args=(n, results)) for n in range(0, 10)]\n",
    "[p.start() for p in threads]\n",
    "[p.join() for p in threads]\n",
    "print(results)"
   ]
  },
  {
   "cell_type": "markdown",
   "id": "dece1eb4",
   "metadata": {},
   "source": [
    "Threads are executed by a single processor only. It works in a Round Robin fashion."
   ]
  },
  {
   "cell_type": "code",
   "execution_count": 22,
   "id": "ee636997",
   "metadata": {},
   "outputs": [
    {
     "name": "stdout",
     "output_type": "stream",
     "text": [
      "Square of 5\n",
      "Finished computing!\n",
      "Square of 4\n",
      "Finished computing!\n",
      "Square of 3\n",
      "Finished computing!\n",
      "Square of 2\n",
      "Finished computing!\n",
      "Square of 7\n",
      "Finished computing!\n",
      "Square of 1\n",
      "Finished computing!\n",
      "Square of 0\n",
      "Finished computing!\n",
      "Square of 8\n",
      "Finished computing!\n",
      "Square of 9\n",
      "Finished computing!\n",
      "Square of 6\n",
      "Finished computing!\n",
      "{5: 25, 4: 16, 3: 9, 2: 4, 7: 49, 1: 1, 0: 0, 8: 64, 9: 81, 6: 36}\n"
     ]
    }
   ],
   "source": [
    "results = {}\n",
    "threads = [threading.Thread(target=longSquare, args=(n, results)) for n in range(0, 10)]\n",
    "[t.start() for t in threads]\n",
    "[t.join() for t in threads]\n",
    "print(results)"
   ]
  },
  {
   "cell_type": "code",
   "execution_count": 30,
   "id": "129b1aa4",
   "metadata": {},
   "outputs": [],
   "source": [
    "# haha car go vroom vroom boom boom brrrrrrrr........"
   ]
  }
 ],
 "metadata": {
  "kernelspec": {
   "display_name": "Python 3",
   "language": "python",
   "name": "python3"
  },
  "language_info": {
   "codemirror_mode": {
    "name": "ipython",
    "version": 3
   },
   "file_extension": ".py",
   "mimetype": "text/x-python",
   "name": "python",
   "nbconvert_exporter": "python",
   "pygments_lexer": "ipython3",
   "version": "3.10.11"
  }
 },
 "nbformat": 4,
 "nbformat_minor": 5
}
