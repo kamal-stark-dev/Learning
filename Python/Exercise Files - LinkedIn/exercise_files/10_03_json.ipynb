{
 "cells": [
  {
   "cell_type": "code",
   "execution_count": 1,
   "id": "d3f30f14",
   "metadata": {},
   "outputs": [],
   "source": [
    "import json\n",
    "from json import JSONDecodeError, JSONEncoder"
   ]
  },
  {
   "cell_type": "markdown",
   "id": "4c55b8ed",
   "metadata": {},
   "source": [
    "## JSON"
   ]
  },
  {
   "cell_type": "markdown",
   "id": "b5d2a05c",
   "metadata": {},
   "source": [
    "### Loading JSON"
   ]
  },
  {
   "cell_type": "code",
   "execution_count": 15,
   "id": "13b6088d",
   "metadata": {},
   "outputs": [
    {
     "name": "stdout",
     "output_type": "stream",
     "text": [
      "{'a': 'apple', 'b': 'bear', 'c': 'cat'}\n"
     ]
    }
   ],
   "source": [
    "jsonString = '{\"a\": \"apple\", \"b\": \"bear\", \"c\": \"cat\"}'\n",
    "try:\n",
    "    print(json.loads(jsonString))\n",
    "except JSONDecodeError:\n",
    "    print('Could not parse JSON!')"
   ]
  },
  {
   "cell_type": "code",
   "execution_count": 16,
   "id": "bee8d345",
   "metadata": {},
   "outputs": [
    {
     "data": {
      "text/plain": [
       "{'a': 'apple', 'b': 'bear', 'c': 'cat'}"
      ]
     },
     "execution_count": 16,
     "metadata": {},
     "output_type": "execute_result"
    }
   ],
   "source": [
    "{'a': 'apple', 'b': 'bear', 'c': 'cat',} # this is a python dict and it works fine with a trailing `,` but if we use loads on it, it'll not work"
   ]
  },
  {
   "cell_type": "markdown",
   "id": "86d11eba",
   "metadata": {},
   "source": [
    "Python's Dictionaries and Jsons are different - \n",
    "- These jsons are strings that shall not be confused with python dictionaries"
   ]
  },
  {
   "cell_type": "markdown",
   "id": "91d66c40",
   "metadata": {},
   "source": [
    "### Dumping JSON"
   ]
  },
  {
   "cell_type": "code",
   "execution_count": 21,
   "id": "28da99a7",
   "metadata": {},
   "outputs": [
    {
     "data": {
      "text/plain": [
       "'{\"a\": \"apple\", \"b\": \"bear\", \"c\": \"cat\"}'"
      ]
     },
     "execution_count": 21,
     "metadata": {},
     "output_type": "execute_result"
    }
   ],
   "source": [
    "pythonDict = {'a': 'apple', 'b': 'bear', 'c': 'cat',}\n",
    "json.dumps(pythonDict)"
   ]
  },
  {
   "cell_type": "markdown",
   "id": "2cd8bb44",
   "metadata": {},
   "source": [
    "### Custom JSON Decoders"
   ]
  },
  {
   "cell_type": "code",
   "execution_count": 26,
   "id": "9559b0f4",
   "metadata": {},
   "outputs": [
    {
     "data": {
      "text/plain": [
       "'{\"a\": \"aardvark\", \"b\": \"bear\", \"c\": \"cat\"}'"
      ]
     },
     "execution_count": 26,
     "metadata": {},
     "output_type": "execute_result"
    }
   ],
   "source": [
    "class Animal:\n",
    "    def __init__(self, name):\n",
    "        self.name = name\n",
    "\n",
    "class AnimalEncoder(JSONEncoder):\n",
    "    def default(self, object):\n",
    "        if type(object) == Animal:\n",
    "            return object.name\n",
    "        return super().default()\n",
    "\n",
    "pythonDict = {'a': Animal('aardvark'), 'b': Animal('bear'), 'c': Animal('cat'),}\n",
    "json.dumps(pythonDict, cls=AnimalEncoder)"
   ]
  },
  {
   "cell_type": "code",
   "execution_count": 27,
   "id": "56613cee",
   "metadata": {},
   "outputs": [],
   "source": [
    "# haha car go vroom vroom boom boom brrrrrrr........"
   ]
  }
 ],
 "metadata": {
  "kernelspec": {
   "display_name": "Python 3",
   "language": "python",
   "name": "python3"
  },
  "language_info": {
   "codemirror_mode": {
    "name": "ipython",
    "version": 3
   },
   "file_extension": ".py",
   "mimetype": "text/x-python",
   "name": "python",
   "nbconvert_exporter": "python",
   "pygments_lexer": "ipython3",
   "version": "3.10.11"
  }
 },
 "nbformat": 4,
 "nbformat_minor": 5
}
