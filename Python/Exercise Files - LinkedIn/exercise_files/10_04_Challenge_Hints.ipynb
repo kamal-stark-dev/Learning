{
 "cells": [
  {
   "cell_type": "markdown",
   "id": "b8bb2983",
   "metadata": {},
   "source": [
    "## ASCII Art Compression\n"
   ]
  },
  {
   "cell_type": "markdown",
   "id": "a354bdd4",
   "metadata": {},
   "source": [
    "**HINT 1:** Doing something like this will technically meet the requirements of this challenge:"
   ]
  },
  {
   "cell_type": "code",
   "execution_count": 26,
   "id": "312efa3a",
   "metadata": {},
   "outputs": [],
   "source": [
    "# json.dumps(encodeString(text))"
   ]
  },
  {
   "cell_type": "markdown",
   "id": "df78ab6f",
   "metadata": {},
   "source": [
    "However, I hope you can find a more efficient compression algorithm than that!"
   ]
  },
  {
   "cell_type": "markdown",
   "id": "8ae1d0ad",
   "metadata": {},
   "source": [
    "**HINT 2:** Writing a list of tuples, there are a lot of instances of \"),(\" and lots of extra quotes and things, which is a lot of characters to devote to where perhaps a single comma would suffice..."
   ]
  },
  {
   "cell_type": "markdown",
   "id": "a13f0f7b",
   "metadata": {},
   "source": [
    "**HINT 3:** If you're looking for a longer challenge, you can look into writing bytes to a file. This is absolutely not necessary, however!"
   ]
  },
  {
   "cell_type": "code",
   "execution_count": 27,
   "id": "0ec1174a",
   "metadata": {},
   "outputs": [],
   "source": [
    "import os\n",
    "import ast\n",
    "\n",
    "def encodeString(stringVal):\n",
    "    encodedList = []\n",
    "    prevChar = None\n",
    "    count = 0\n",
    "    for char in stringVal:\n",
    "        if prevChar != char and prevChar is not None:\n",
    "            encodedList.append((prevChar, count))\n",
    "            count = 0\n",
    "        prevChar = char\n",
    "        count = count + 1\n",
    "    encodedList.append((prevChar, count))\n",
    "    return encodedList\n",
    "\n",
    "def decodeString(encodedList):\n",
    "    decodedStr = ''\n",
    "    for item in encodedList:\n",
    "        decodedStr = decodedStr + item[0] * item[1]\n",
    "    return decodedStr"
   ]
  },
  {
   "cell_type": "code",
   "execution_count": 28,
   "id": "d4bb1637",
   "metadata": {},
   "outputs": [],
   "source": [
    "def encodeFile(filename, newFilename):\n",
    "    dataInStr = ''\n",
    "    with open(filename, 'r') as f1, open(newFilename,\n",
    "    'w') as f2:\n",
    "        for line in f1.readlines():\n",
    "            dataInStr += line\n",
    "        f2.write(str(encodeString(dataInStr)))\n",
    "        f1.close()\n",
    "        f2.close()\n",
    "\n",
    "def decodeFile(filename):\n",
    "    text = ''\n",
    "    with open(filename, 'r') as f:\n",
    "        for line in f.readlines():\n",
    "            text += line\n",
    "        f.close()\n",
    "\n",
    "    # converting the text to list\n",
    "    data_list = ast.literal_eval(text)\n",
    "\n",
    "    return decodeString(data_list)\n",
    "\n"
   ]
  },
  {
   "cell_type": "code",
   "execution_count": 29,
   "id": "2740024f",
   "metadata": {},
   "outputs": [
    {
     "name": "stdout",
     "output_type": "stream",
     "text": [
      "Original file size: 2152\n",
      "New file size: 2041\n"
     ]
    }
   ],
   "source": [
    "print(f'Original file size: {os.path.getsize(\"10_04_challenge_art.txt\")}')\n",
    "\n",
    "encodeFile('10_04_challenge_art.txt', '10_04_challenge_art_encoded.txt')\n",
    "\n",
    "print(f'New file size: {os.path.getsize(\"10_04_challenge_art_encoded.txt\")}')"
   ]
  },
  {
   "cell_type": "code",
   "execution_count": 30,
   "id": "985e9278",
   "metadata": {},
   "outputs": [
    {
     "name": "stdout",
     "output_type": "stream",
     "text": [
      "\n",
      "\n",
      "\n",
      "\n",
      "                               %%%%%%%%%%%%%%%%%%%\n",
      "                        %%%%%%%%%%%%%%%%%%%%%%%%%%%%%%%%%\n",
      "                    %%%%%%%%                         %%%%%%%%\n",
      "                %%%%%%%                                   %%%%%%\n",
      "              %%%%%%                                         %%%%%%\n",
      "           %%%%%%                                               %%%%%\n",
      "          %%%%%                                                   %%%%%\n",
      "        %%%%%                                                       %%%%%\n",
      "       %%%%                 %%%%%              %%%%%                  %%%%\n",
      "      %%%%                 %%%%%%%            %%%%%%%                  %%%%\n",
      "     %%%%                  %%%%%%%            %%%%%%%                   %%%%\n",
      "    %%%%                   %%%%%%%            %%%%%%%                    %%%%\n",
      "    %%%%                    %%%%%              %%%%%                     %%%%\n",
      "   %%%%                                                                   %%%%\n",
      "   %%%%                                                                   %%%%\n",
      "   %%%%                                                                   %%%%\n",
      "   %%%%                                                      %%%%        %%%%\n",
      "    %%%%       %%%%%%                                        %%%%%       %%%%\n",
      "    %%%%         %%%%                                       %%%%        %%%%\n",
      "     %%%%         %%%%                                     %%%%         %%%%\n",
      "      %%%%         %%%%%                                  %%%%         %%%%\n",
      "       %%%%%         %%%%%                             %%%%%         %%%%%\n",
      "        %%%%%          %%%%%%                        %%%%%          %%%%\n",
      "          %%%%%           %%%%%%%               %%%%%%%           %%%%%\n",
      "            %%%%%             %%%%%%%%%%%%%%%%%%%%%             %%%%%\n",
      "              %%%%%%%                                        %%%%%\n",
      "                 %%%%%%%                                 %%%%%%%\n",
      "                     %%%%%%%%%                     %%%%%%%%%\n",
      "                          %%%%%%%%%%%%%%%%%%%%%%%%%%%%%\n",
      "                                   %%%%%%%%%%%%\n",
      "\n"
     ]
    }
   ],
   "source": [
    "print(decodeFile('10_04_challenge_art_encoded.txt'))"
   ]
  },
  {
   "cell_type": "markdown",
   "id": "c75ee8e7",
   "metadata": {},
   "source": [
    "We can see that our filesize has reduced from __2150__ to __2041__, which is not much but still it's compressed.\n",
    "\n",
    "Let's see how we can compress it even more - \n",
    "Currently our encoded text looks like this - `[('A', 2), ('B', 31) ...` and in here we can see their are 5 characters/delimiters in here between our essential information `), ('` these takes a lot of memory.\n",
    "\n",
    "So, if we can write it in an efficient way like - `A|2~B|31~...` now we are using delimiters like `|` and `~` which are single characters and if we write our code such that it handle this formatting correctly then this will compress the file even more (something like - __974__).\n",
    "\n",
    "If you want to compress it even more then converting the data into __bytes__ could be another option. Now you can store any integer from 0 to 255 in single byte so rather than using 3 bytes to store `123` you can just store it in a single byte which when used correctly compresses the file a lot. (something like - __438__)"
   ]
  },
  {
   "cell_type": "markdown",
   "id": "e0239976",
   "metadata": {},
   "source": [
    "> These little more compressions will become really helpful when storing large amounts of data."
   ]
  },
  {
   "cell_type": "code",
   "execution_count": 31,
   "id": "ba2a575c",
   "metadata": {},
   "outputs": [],
   "source": [
    "# haha car go vroom vroom boom boom brrrrrrr......"
   ]
  }
 ],
 "metadata": {
  "kernelspec": {
   "display_name": "Python 3",
   "language": "python",
   "name": "python3"
  },
  "language_info": {
   "codemirror_mode": {
    "name": "ipython",
    "version": 3
   },
   "file_extension": ".py",
   "mimetype": "text/x-python",
   "name": "python",
   "nbconvert_exporter": "python",
   "pygments_lexer": "ipython3",
   "version": "3.10.11"
  }
 },
 "nbformat": 4,
 "nbformat_minor": 5
}
