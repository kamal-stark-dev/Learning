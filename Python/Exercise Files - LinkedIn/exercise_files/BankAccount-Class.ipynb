{
 "cells": [
  {
   "cell_type": "markdown",
   "metadata": {},
   "source": [
    "### Bank Account"
   ]
  },
  {
   "cell_type": "code",
   "execution_count": 9,
   "metadata": {},
   "outputs": [],
   "source": [
    "class NonPositiveValue(Exception):\n",
    "    pass\n",
    "\n",
    "def checkExceptions(func):\n",
    "    def wrapper(*args):\n",
    "        for arg in args:\n",
    "            if isinstance(arg, int) and arg < 0:\n",
    "                raise NonPositiveValue(f'Non-positive value passed :{arg}')\n",
    "        return func(*args)\n",
    "    return wrapper"
   ]
  },
  {
   "cell_type": "code",
   "execution_count": 16,
   "metadata": {},
   "outputs": [],
   "source": [
    "class BankAccount():\n",
    "    def __init__(self, ac_num, name):\n",
    "        self.account_number = ac_num\n",
    "        self.account_holder = name\n",
    "        self.balance = 0\n",
    "        self.loan = 0\n",
    "\n",
    "    def checkDetails(self):\n",
    "        print(f\"\"\"\n",
    "Hello {self.account_holder.split()[0]},\n",
    "    Holder Name     : {self.account_holder}\n",
    "    Account Number  : {self.account_number}\n",
    "    Current Balance : Rs.{self.balance}\n",
    "\"\"\")\n",
    "\n",
    "    @checkExceptions\n",
    "    def withdraw(self, amount):\n",
    "        if amount <= self.balance:\n",
    "            self.balance -= amount\n",
    "            print(f'\\nSuccessfully withdrawn Rs.{amount} from the account.')\n",
    "        else:\n",
    "            print(f'\\n{self.account_holder}, you don\\'t have enough balance to withdraw Rs.{amount}.')\n",
    "            print(\"\"\"___________________________________________________________________\n",
    "| You can take loan from the bank if you need the money urgently. |\n",
    "\\\\_________________________________________________________________/\"\"\".upper())\n",
    "\n",
    "    @checkExceptions\n",
    "    def deposit(self, amount):\n",
    "        self.balance += amount\n",
    "        print(f'\\nSuccessfully deposited Rs.{amount}')\n",
    "\n",
    "    def checkBalance(self):\n",
    "        print(f'''\n",
    "//// {self.account_holder}, your current balance is: Rs.{self.balance} ////''')\n",
    "\n",
    "    @checkExceptions\n",
    "    def takeLoan(self, loan_amount):\n",
    "        self.loan += loan_amount\n",
    "        self.balance += loan_amount\n",
    "        print(f'\\n{self.account_holder}, you have successfully taken loan of Rs.{loan_amount} from the Bank.')\n",
    "\n",
    "    @checkExceptions\n",
    "    def depositLoan(self, deposit_amount):\n",
    "        if deposit_amount < self.loan:\n",
    "            self.loan -= deposit_amount\n",
    "            print(f'\\nSuccessfully deposited Rs.{deposit_amount} to your loan amount.\\nYour current Loan now is: {self.loan}.')\n",
    "        elif self.loan == deposit_amount:\n",
    "            self.loan = 0\n",
    "            print(f\"\\nCongratulations! Your loan is Completed.\")\n",
    "        else:\n",
    "            extra = deposit_amount - self.loan\n",
    "            self.balance += extra\n",
    "            print(f\"\\nCongratulations! Your loan is Completed.\")\n",
    "            print(f\"\\nThe extra Rs.{extra} has been deposited to your balance amount.\\nYour current balance now is: Rs.{self.balance}\")"
   ]
  },
  {
   "cell_type": "code",
   "execution_count": 17,
   "metadata": {},
   "outputs": [
    {
     "name": "stdout",
     "output_type": "stream",
     "text": [
      "\n",
      "//// John Doe, your current balance is: Rs.0 ////\n",
      "\n",
      "John Doe, you don't have enough balance to withdraw Rs.200.\n",
      "___________________________________________________________________\n",
      "| YOU CAN TAKE LOAN FROM THE BANK IF YOU NEED THE MONEY URGENTLY. |\n",
      "\\_________________________________________________________________/\n",
      "\n",
      "John Doe, you have successfully taken loan of Rs.5000 from the Bank.\n",
      "\n",
      "Congratulations! Your loan is Completed.\n",
      "\n",
      "The extra Rs.2000 has been deposited to your balance amount.\n",
      "Your current balance now is: Rs.7000\n",
      "\n",
      "Hello John,\n",
      "    Holder Name     : John Doe\n",
      "    Account Number  : 3882891922\n",
      "    Current Balance : Rs.7000\n",
      "\n"
     ]
    }
   ],
   "source": [
    "# a = BankAccount(1234567890, 'Kamalveer Singh')\n",
    "# a.checkBalance()\n",
    "# a.deposit(2000)\n",
    "# a.withdraw(1600)\n",
    "# a.checkBalance()\n",
    "# a.checkDetails()\n",
    "\n",
    "b = BankAccount(3882891922, 'John Doe')\n",
    "b.checkBalance()\n",
    "b.withdraw(200)\n",
    "b.takeLoan(5000)\n",
    "b.depositLoan(7000)\n",
    "b.checkDetails()"
   ]
  },
  {
   "cell_type": "code",
   "execution_count": 18,
   "metadata": {},
   "outputs": [],
   "source": [
    "# haha car go vroom vroom boom boom brrrrrr........."
   ]
  }
 ],
 "metadata": {
  "kernelspec": {
   "display_name": "Python 3",
   "language": "python",
   "name": "python3"
  },
  "language_info": {
   "codemirror_mode": {
    "name": "ipython",
    "version": 3
   },
   "file_extension": ".py",
   "mimetype": "text/x-python",
   "name": "python",
   "nbconvert_exporter": "python",
   "pygments_lexer": "ipython3",
   "version": "3.12.7"
  }
 },
 "nbformat": 4,
 "nbformat_minor": 2
}
