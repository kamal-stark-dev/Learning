{
 "cells": [
  {
   "cell_type": "markdown",
   "id": "e1187630",
   "metadata": {},
   "source": [
    "## **Playing with Image Pixels**"
   ]
  },
  {
   "cell_type": "code",
   "execution_count": 4,
   "id": "498f76cc",
   "metadata": {},
   "outputs": [],
   "source": [
    "from PIL import Image\n",
    "import cv2\n",
    "import numpy as np\n",
    "import matplotlib.pyplot as plt"
   ]
  },
  {
   "cell_type": "code",
   "execution_count": 26,
   "id": "6652b016",
   "metadata": {},
   "outputs": [
    {
     "data": {
      "image/png": "[encoded data removed]",
      "text/plain": [
       "<Figure size 640x480 with 1 Axes>"
      ]
     },
     "metadata": {},
     "output_type": "display_data"
    }
   ],
   "source": [
    "image = np.zeros((10, 10), dtype=int)\n",
    "\n",
    "plt.imshow(image, cmap=\"gray\")\n",
    "plt.show()"
   ]
  },
  {
   "cell_type": "code",
   "execution_count": 34,
   "id": "87906d53",
   "metadata": {},
   "outputs": [
    {
     "name": "stdout",
     "output_type": "stream",
     "text": [
      "[[255   0   0   0   0   0   0   0   0 255]\n",
      " [  0 255   0   0   0   0   0   0 255   0]\n",
      " [  0   0 255   0   0   0   0 255   0   0]\n",
      " [  0   0   0 255   0   0 255   0   0   0]\n",
      " [  0   0   0   0 255 255   0   0   0   0]\n",
      " [  0   0   0   0 255 255   0   0   0   0]\n",
      " [  0   0   0 255   0   0 255   0   0   0]\n",
      " [  0   0 255   0   0   0   0 255   0   0]\n",
      " [  0 255   0   0   0   0   0   0 255   0]\n",
      " [255   0   0   0   0   0   0   0   0 255]]\n"
     ]
    },
    {
     "data": {
      "text/plain": [
       "<matplotlib.image.AxesImage at 0x152b855c470>"
      ]
     },
     "execution_count": 34,
     "metadata": {},
     "output_type": "execute_result"
    },
    {
     "data": {
      "image/png": "[encoded data removed]",
      "text/plain": [
       "<Figure size 300x300 with 1 Axes>"
      ]
     },
     "metadata": {},
     "output_type": "display_data"
    }
   ],
   "source": [
    "for i in range(10):\n",
    "    image[i, i] = 255\n",
    "    image[i, 10 - i - 1] = 255\n",
    "print(image)\n",
    "plt.figure(figsize=(3, 3))\n",
    "plt.imshow(image, cmap=\"gray\")"
   ]
  },
  {
   "cell_type": "markdown",
   "id": "7466ebab",
   "metadata": {},
   "source": [
    "*Let's try to make Minecraft's Creeper Face*"
   ]
  },
  {
   "cell_type": "code",
   "execution_count": 129,
   "id": "b15c9ece",
   "metadata": {},
   "outputs": [],
   "source": [
    "def save_pixel_image(image, name, scale_factor = 50):\n",
    "    # saving the creeper image\n",
    "\n",
    "    pil_image = Image.fromarray(image)\n",
    "\n",
    "    scaled_image = pil_image.resize(\n",
    "        (pil_image.width * scale_factor, pil_image.height * scale_factor),\n",
    "        Image.NEAREST\n",
    "    )\n",
    "\n",
    "    scaled_image.save(f\"images/{name}.png\")"
   ]
  },
  {
   "cell_type": "code",
   "execution_count": null,
   "id": "9b8b5eba",
   "metadata": {},
   "outputs": [
    {
     "data": {
      "image/png": "[encoded data removed]",
      "text/plain": [
       "<Figure size 400x400 with 1 Axes>"
      ]
     },
     "metadata": {},
     "output_type": "display_data"
    }
   ],
   "source": [
    "import random\n",
    "\n",
    "creeper = np.zeros((8, 8, 3), dtype=np.uint8)\n",
    "\n",
    "black = (0, 0, 0)\n",
    "lightest_green = (137,225,137)\n",
    "medium_green = (15,128,15)\n",
    "base_green = (13,181,13)\n",
    "light_green = (96,158,96)\n",
    "dark_green = (0,69,0)\n",
    "\n",
    "# skin\n",
    "colors = [lightest_green, medium_green, base_green, light_green, dark_green]\n",
    "for i in range(8):\n",
    "    for j in range(8):\n",
    "        creeper[i, j] = random.choice(colors)\n",
    "\n",
    "# eyes\n",
    "creeper[2:4, 1:3] = black\n",
    "creeper[2:4, 5:7] = black\n",
    "\n",
    "# nose\n",
    "creeper[4:5, 3:5] = black\n",
    "\n",
    "# mouth\n",
    "creeper[5:7, 2:6] = black\n",
    "creeper[7, 2] = black\n",
    "creeper[7, 5] = black\n",
    "\n",
    "fig = plt.figure(frameon=False)  # no frame\n",
    "plt.imshow(creeper, interpolation='nearest')  # sharp pixels\n",
    "plt.axis('off')  # remove axes\n",
    "fig.set_size_inches(4, 4)\n",
    "\n",
    "plt.show()\n",
    "\n",
    "# uncomment below line to save creeper image\n",
    "# save_pixel_image(creeper, \"creeper\")"
   ]
  },
  {
   "cell_type": "code",
   "execution_count": null,
   "id": "295de4c6",
   "metadata": {},
   "outputs": [],
   "source": []
  }
 ],
 "metadata": {
  "kernelspec": {
   "display_name": "Python 3",
   "language": "python",
   "name": "python3"
  },
  "language_info": {
   "codemirror_mode": {
    "name": "ipython",
    "version": 3
   },
   "file_extension": ".py",
   "mimetype": "text/x-python",
   "name": "python",
   "nbconvert_exporter": "python",
   "pygments_lexer": "ipython3",
   "version": "3.12.10"
  }
 },
 "nbformat": 4,
 "nbformat_minor": 5
}
