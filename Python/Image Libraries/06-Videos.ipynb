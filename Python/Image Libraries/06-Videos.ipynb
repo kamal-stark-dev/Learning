{
 "cells": [
  {
   "cell_type": "code",
   "execution_count": 1,
   "id": "5b94eb49",
   "metadata": {},
   "outputs": [],
   "source": [
    "import cv2"
   ]
  },
  {
   "cell_type": "code",
   "execution_count": 12,
   "id": "e708396a",
   "metadata": {},
   "outputs": [],
   "source": [
    "vid = cv2.VideoCapture(\"images/kaithi.mp4\")\n",
    "\n",
    "fps = int(vid.get(cv2.CAP_PROP_FPS))\n",
    "width = int(vid.get(cv2.CAP_PROP_FRAME_WIDTH))\n",
    "height = int(vid.get(cv2.CAP_PROP_FRAME_HEIGHT))\n",
    "\n",
    "# video writer to save the output\n",
    "fourcc = cv2.VideoWriter_fourcc(*\"mp4v\") # codec\n",
    "out = cv2.VideoWriter(\"output.mp4\", fourcc, fps, (width, height), isColor=False)\n",
    "\n",
    "while vid.isOpened():\n",
    "    ret, frame = vid.read()\n",
    "    if not ret:\n",
    "        break\n",
    "\n",
    "    gray = cv2.cvtColor(frame, cv2.COLOR_BGR2GRAY)\n",
    "\n",
    "    out.write(gray)\n",
    "\n",
    "    cv2.imshow(\"Processed Video\", gray)\n",
    "    if cv2.waitKey(1) & 0xFF == ord(\"q\"):\n",
    "        break\n",
    "\n",
    "# cleanup\n",
    "vid.release()\n",
    "out.release()\n",
    "cv2.destroyAllWindows()"
   ]
  },
  {
   "cell_type": "markdown",
   "id": "c4a28f06",
   "metadata": {},
   "source": [
    "Use this command to attatch the audio from the original video to the newly created video - \\\n",
    "`ffmpeg -i output.mp4 -i .\\images\\kaithi.mp4 -map 0:v:0 -map 1:a:0 -c copy final_output.mp4`"
   ]
  },
  {
   "cell_type": "code",
   "execution_count": 13,
   "id": "50943a82",
   "metadata": {},
   "outputs": [],
   "source": [
    "vid = cv2.VideoCapture(\"images/haikyuu.mp4\")\n",
    "\n",
    "fps = int(vid.get(cv2.CAP_PROP_FPS))\n",
    "width = int(vid.get(cv2.CAP_PROP_FRAME_WIDTH))\n",
    "height = int(vid.get(cv2.CAP_PROP_FRAME_HEIGHT))\n",
    "\n",
    "# video writer to save the output\n",
    "fourcc = cv2.VideoWriter_fourcc(*\"mp4v\") # codec\n",
    "out = cv2.VideoWriter(\"haikyuu-manga.mp4\", fourcc, fps, (width, height), isColor=False)\n",
    "\n",
    "while vid.isOpened():\n",
    "    ret, frame = vid.read()\n",
    "    if not ret:\n",
    "        break\n",
    "\n",
    "    gray = cv2.cvtColor(frame, cv2.COLOR_BGR2GRAY)\n",
    "    blurred = cv2.medianBlur(gray, 5)\n",
    "\n",
    "    manga = cv2.adaptiveThreshold(\n",
    "        blurred,\n",
    "        255,\n",
    "        cv2.ADAPTIVE_THRESH_MEAN_C,\n",
    "        cv2.THRESH_BINARY,\n",
    "        9,\n",
    "        8\n",
    "    )\n",
    "\n",
    "    out.write(manga)\n",
    "\n",
    "    cv2.imshow(\"Manga Video\", gray)\n",
    "    if cv2.waitKey(1) & 0xFF == ord(\"q\"):\n",
    "        break\n",
    "\n",
    "# cleanup\n",
    "vid.release()\n",
    "out.release()\n",
    "cv2.destroyAllWindows()"
   ]
  }
 ],
 "metadata": {
  "kernelspec": {
   "display_name": "Python 3",
   "language": "python",
   "name": "python3"
  },
  "language_info": {
   "codemirror_mode": {
    "name": "ipython",
    "version": 3
   },
   "file_extension": ".py",
   "mimetype": "text/x-python",
   "name": "python",
   "nbconvert_exporter": "python",
   "pygments_lexer": "ipython3",
   "version": "3.12.10"
  }
 },
 "nbformat": 4,
 "nbformat_minor": 5
}
