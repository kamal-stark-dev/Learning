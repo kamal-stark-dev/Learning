{
 "cells": [
  {
   "cell_type": "code",
   "execution_count": 3,
   "metadata": {},
   "outputs": [],
   "source": [
    "import numpy as np\n",
    "import matplotlib.pyplot as plt\n",
    "\n",
    "# from mpl_toolkits import mplot3d"
   ]
  },
  {
   "cell_type": "code",
   "execution_count": 21,
   "metadata": {},
   "outputs": [],
   "source": [
    "# %matplotlib qt"
   ]
  },
  {
   "cell_type": "code",
   "execution_count": 54,
   "metadata": {},
   "outputs": [],
   "source": [
    "# plotting a single point\n",
    "\n",
    "ax = plt.axes(projection=\"3d\")\n",
    "ax.scatter(3, 2, 5)\n",
    "\n",
    "plt.savefig(\"./figures/3D-point.png\")\n",
    "\n",
    "plt.show()"
   ]
  },
  {
   "cell_type": "code",
   "execution_count": 25,
   "metadata": {},
   "outputs": [],
   "source": [
    "# scatter plot in 3d\n",
    "ax = plt.axes(projection=\"3d\")\n",
    "\n",
    "x_data = np.random.randint(0, 50, (100,))\n",
    "y_data = np.random.randint(0, 50, (100,))\n",
    "z_data = np.random.randint(0, 50, (100,))\n",
    "\n",
    "ax.scatter(x_data, y_data, z_data, marker='^')\n",
    "\n",
    "plt.show()"
   ]
  },
  {
   "cell_type": "code",
   "execution_count": 53,
   "metadata": {},
   "outputs": [],
   "source": [
    "# plotting functions\n",
    "ax = plt.axes(projection=\"3d\")\n",
    "\n",
    "x_data = np.arange(0, 50, 0.1)\n",
    "y_data = np.arange(0, 50, 0.1)\n",
    "z_data = x_data * y_data\n",
    "\n",
    "ax.set_title(\"3D - Plot Title\")\n",
    "ax.set_xlabel(\"X-axis\")\n",
    "ax.set_ylabel(\"Y-axis\")\n",
    "ax.set_zlabel(\"Z-axis\")\n",
    "\n",
    "ax.plot(x_data, y_data, z_data, color=\"green\")\n",
    "\n",
    "plt.savefig(\"./figures/3D-line.png\")\n",
    "\n",
    "plt.show()"
   ]
  },
  {
   "cell_type": "code",
   "execution_count": 51,
   "metadata": {},
   "outputs": [],
   "source": [
    "# plotting surfaces\n",
    "ax = plt.axes(projection=\"3d\")\n",
    "\n",
    "x_data = np.arange(-5, 5, 0.1)\n",
    "y_data = np.arange(-5, 5, 0.1)\n",
    "\n",
    "X, Y = np.meshgrid(x_data, y_data)\n",
    "\n",
    "Z = np.sin(X) * np.cos(Y)\n",
    "\n",
    "ax.plot_surface(X, Y, Z, cmap=\"plasma\")\n",
    "ax.view_init(azim=40, elev=30)\n",
    "\n",
    "plt.savefig(\"./figures/3D-surface.png\")\n",
    "\n",
    "plt.show()"
   ]
  }
 ],
 "metadata": {
  "kernelspec": {
   "display_name": "Python 3",
   "language": "python",
   "name": "python3"
  },
  "language_info": {
   "codemirror_mode": {
    "name": "ipython",
    "version": 3
   },
   "file_extension": ".py",
   "mimetype": "text/x-python",
   "name": "python",
   "nbconvert_exporter": "python",
   "pygments_lexer": "ipython3",
   "version": "3.10.11"
  }
 },
 "nbformat": 4,
 "nbformat_minor": 2
}
