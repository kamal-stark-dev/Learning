{
 "cells": [
  {
   "cell_type": "markdown",
   "metadata": {},
   "source": [
    "## Animations go brrrrr...."
   ]
  },
  {
   "cell_type": "code",
   "execution_count": 1,
   "metadata": {},
   "outputs": [],
   "source": [
    "import numpy as np\n",
    "import matplotlib.pyplot as plt\n",
    "from matplotlib.animation import FuncAnimation"
   ]
  },
  {
   "cell_type": "code",
   "execution_count": 2,
   "metadata": {},
   "outputs": [],
   "source": [
    "%matplotlib qt"
   ]
  },
  {
   "cell_type": "code",
   "execution_count": 3,
   "metadata": {},
   "outputs": [],
   "source": [
    "t = np.linspace(0, 2 * np.pi, 108)\n",
    "y = np.sin(t)\n",
    "z = np.cos(t)\n",
    "\n",
    "fig, axis = plt.subplots()\n",
    "\n",
    "axis.set_xlim([min(t), max(t) - 0.1])\n",
    "axis.set_ylim(-1.2, 1.2)\n",
    "\n",
    "animated_plot1, = axis.plot([], [], label=\"sin\")\n",
    "animated_plot2, = axis.plot([], [], label=\"cos\")\n",
    "axis.legend(loc=\"upper right\")\n",
    "axis.grid()\n",
    "\n",
    "def update_data(frame):\n",
    "  animated_plot1.set_data(t[:frame], y[:frame])\n",
    "  animated_plot2.set_data(t[:frame], z[:frame])\n",
    "\n",
    "  return animated_plot1, animated_plot2\n",
    "\n",
    "animation = FuncAnimation(\n",
    "  fig=fig,\n",
    "  func=update_data,\n",
    "  frames=len(t),\n",
    "  interval=25,\n",
    "  repeat=False\n",
    ")\n",
    "\n",
    "# animation.save(\"Sin-&-Cos-Wave.gif\")\n",
    "\n",
    "plt.show()"
   ]
  },
  {
   "cell_type": "code",
   "execution_count": 127,
   "metadata": {},
   "outputs": [
    {
     "name": "stderr",
     "output_type": "stream",
     "text": [
      "MovieWriter ffmpeg unavailable; using Pillow instead.\n"
     ]
    }
   ],
   "source": [
    "import numpy as np\n",
    "import matplotlib.pyplot as plt\n",
    "from matplotlib.animation import FuncAnimation\n",
    "\n",
    "m = 1  # kg - higher the value slower the changes\n",
    "k = 10  # N/m - higher the value stronger the spring\n",
    "d = 0.2  # Unit of d - higher the values lesser the time it moves\n",
    "\n",
    "t = np.linspace(0, 40, 401)\n",
    "w_d = np.sqrt(4 * m * k - d ** 2) / (4 * m ** 2)\n",
    "x = np.exp(-d / (2 * m) * t) * np.cos(w_d * t)\n",
    "\n",
    "fig, axis = plt.subplots(1, 2, figsize=(10, 6))\n",
    "\n",
    "fig.suptitle(\"Mass-Spring System Oscillation\", fontsize=16, fontweight=\"bold\")\n",
    "\n",
    "animated_spring, = axis[0].plot([], [], color='k')\n",
    "# Create a point to represent the mass\n",
    "animated_mass, = axis[0].plot([], [], marker='s', markersize=30, color='#BEAED4', markeredgecolor='black')\n",
    "\n",
    "axis[0].set_xlim([-2, 2])\n",
    "axis[0].set_ylim([-2, 2])\n",
    "axis[0].set_xlabel(\"X position (meters)\", color=\"#222\", fontsize=14)\n",
    "axis[0].set_ylabel(\"Y position (meters)\", color=\"#222\", fontsize=14)\n",
    "\n",
    "animated_disp, = axis[1].plot([], [], color='#FF7F00')\n",
    "axis[1].set_xlim([min(t), max(t)])\n",
    "axis[1].set_ylim([-2, 2])\n",
    "axis[1].grid()\n",
    "axis[1].set_xlabel(\"Time (seconds)\", color=\"#222\", fontsize=14)\n",
    "axis[1].set_ylabel(\"Displacement (meters)\", color=\"#222\", fontsize=14)\n",
    "\n",
    "fig.tight_layout()\n",
    "\n",
    "def update(frame):\n",
    "    # Update the mass position to oscillate vertically\n",
    "    animated_mass.set_data([0], [x[frame]])\n",
    "\n",
    "    animated_spring.set_data([0, 0], [2, x[frame]])\n",
    "\n",
    "    animated_disp.set_data(t[:frame], x[:frame])\n",
    "\n",
    "    return animated_mass, animated_spring, animated_disp\n",
    "\n",
    "animation = FuncAnimation(fig, update, frames=len(t), interval=25)\n",
    "\n",
    "# animation.save(\"./animated/Mass-Spring-Oscillation.gif\")\n",
    "plt.show()"
   ]
  },
  {
   "cell_type": "code",
   "execution_count": null,
   "metadata": {},
   "outputs": [],
   "source": []
  }
 ],
 "metadata": {
  "kernelspec": {
   "display_name": "Python 3",
   "language": "python",
   "name": "python3"
  },
  "language_info": {
   "codemirror_mode": {
    "name": "ipython",
    "version": 3
   },
   "file_extension": ".py",
   "mimetype": "text/x-python",
   "name": "python",
   "nbconvert_exporter": "python",
   "pygments_lexer": "ipython3",
   "version": "3.10.11"
  }
 },
 "nbformat": 4,
 "nbformat_minor": 2
}
