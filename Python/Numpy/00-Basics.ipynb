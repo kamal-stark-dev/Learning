{
 "cells": [
  {
   "cell_type": "code",
   "execution_count": 17,
   "id": "77218e15",
   "metadata": {},
   "outputs": [],
   "source": [
    "import math\n",
    "import numpy as np"
   ]
  },
  {
   "cell_type": "code",
   "execution_count": null,
   "id": "e9dbbcac",
   "metadata": {},
   "outputs": [
    {
     "name": "stdout",
     "output_type": "stream",
     "text": [
      "[1 2 3 4 5]\n",
      "69\n",
      "[69  2  3]\n",
      "[4 5]\n",
      "[69  2  3 69  5]\n"
     ]
    }
   ],
   "source": [
    "# nsarray -> n dimensional array\n",
    "arr = np.array([1, 2, 3, 4, 5])\n",
    "\n",
    "print(arr)\n",
    "arr[0] = 69\n",
    "print(arr[0])\n",
    "print(arr[:3])\n",
    "\n",
    "arr2 = arr[3:]\n",
    "print(arr2)\n",
    "arr2[0] = 69\n",
    "print(arr) # arr will also be modified"
   ]
  },
  {
   "cell_type": "code",
   "execution_count": 22,
   "id": "52a10412",
   "metadata": {},
   "outputs": [
    {
     "name": "stdout",
     "output_type": "stream",
     "text": [
      "Matrix: [[1 2 3]\n",
      " [4 5 6]]\n",
      "ndim: 2\n",
      "shape: (2, 3)\n",
      "size: 6\n",
      "mat[1][2]: 6\n"
     ]
    }
   ],
   "source": [
    "# 2d array\n",
    "matrix = np.array([\n",
    "    [1, 2, 3],\n",
    "    [4, 5, 6]\n",
    "])\n",
    "\n",
    "print('Matrix:', matrix)\n",
    "print('ndim:', matrix.ndim)\n",
    "print('shape:', matrix.shape) # (2, 3) -> 2 rows and 3 cols\n",
    "print('size:', matrix.size) # tells the total number of elements\n",
    "print('mat[1][2]:', matrix[1, 2]) # you can pass indexes separated by comma (can't be done in normal arrays)"
   ]
  },
  {
   "cell_type": "markdown",
   "id": "844bebec",
   "metadata": {},
   "source": [
    "> Sometimes `axis` is referred in place of dimensions of array, this is to disambiguate between dimensions of an array and the dimensions of the data represented by the array."
   ]
  },
  {
   "cell_type": "markdown",
   "id": "95002492",
   "metadata": {},
   "source": [
    "### **Array Operations -**"
   ]
  },
  {
   "cell_type": "code",
   "execution_count": 12,
   "id": "566533fe",
   "metadata": {},
   "outputs": [
    {
     "name": "stdout",
     "output_type": "stream",
     "text": [
      "2\n",
      "0\n"
     ]
    }
   ],
   "source": [
    "scalar = np.array(2)\n",
    "print(scalar) # an array with 0-dimensions is referred to a `scalar`\n",
    "print(scalar.ndim)"
   ]
  },
  {
   "cell_type": "code",
   "execution_count": 23,
   "id": "a1309866",
   "metadata": {},
   "outputs": [
    {
     "name": "stdout",
     "output_type": "stream",
     "text": [
      "True\n",
      "True\n"
     ]
    }
   ],
   "source": [
    "# ndim tells the cound of dimensions and shape tells the row and col count\n",
    "print(matrix.ndim == len(matrix.shape))\n",
    "\n",
    "print(matrix.size == math.prod(matrix.shape))"
   ]
  },
  {
   "cell_type": "code",
   "execution_count": 26,
   "id": "bc4b5e38",
   "metadata": {},
   "outputs": [
    {
     "name": "stdout",
     "output_type": "stream",
     "text": [
      "int32\n"
     ]
    },
    {
     "data": {
      "text/plain": [
       "dtype('int32')"
      ]
     },
     "execution_count": 26,
     "metadata": {},
     "output_type": "execute_result"
    }
   ],
   "source": [
    "# to check the data type of elements of array\n",
    "print(matrix.dtype)\n",
    "matrix.dtype"
   ]
  },
  {
   "cell_type": "code",
   "execution_count": 46,
   "id": "a6711666",
   "metadata": {},
   "outputs": [
    {
     "name": "stdout",
     "output_type": "stream",
     "text": [
      "[0. 0. 0.]\n",
      "[1. 1.]\n",
      "[0. 0. 0.]\n",
      "[0 1 2 3 4]\n",
      "[3 5 7 9]\n",
      "[ 0.   2.5  5.   7.5 10. ]\n"
     ]
    }
   ],
   "source": [
    "# creating basic arrays\n",
    "\n",
    "print(np.zeros(3))\n",
    "\n",
    "print(np.ones(2))\n",
    "\n",
    "print(np.empty(3)) # initial content is random\n",
    "\n",
    "print(np.arange(5))\n",
    "\n",
    "print(np.arange(3, 10, 2))\n",
    "\n",
    "print(np.linspace(0, 10, 5)) # to create values that are spaced linearly in a specific interval"
   ]
  },
  {
   "cell_type": "code",
   "execution_count": 47,
   "id": "2e857f45",
   "metadata": {},
   "outputs": [
    {
     "name": "stdout",
     "output_type": "stream",
     "text": [
      "[1 1 1]\n",
      "int64\n"
     ]
    }
   ],
   "source": [
    "# specifying your data type\n",
    "\n",
    "x = np.ones(3, dtype=np.int64)\n",
    "print(x)\n",
    "print(x.dtype)"
   ]
  },
  {
   "cell_type": "markdown",
   "id": "85e8298e",
   "metadata": {},
   "source": [
    "### **Adding, Removing and Sorting Elements -** "
   ]
  },
  {
   "cell_type": "code",
   "execution_count": 51,
   "id": "a297173b",
   "metadata": {},
   "outputs": [
    {
     "name": "stdout",
     "output_type": "stream",
     "text": [
      "[1 2 3 4 5 7 8]\n",
      "[3 5 1 8 4 7 2]\n"
     ]
    }
   ],
   "source": [
    "nums = np.array([3, 5, 1, 8, 4, 7, 2])\n",
    "\n",
    "print(np.sort(nums))\n",
    "print(nums)"
   ]
  },
  {
   "cell_type": "code",
   "execution_count": 53,
   "id": "407101c6",
   "metadata": {},
   "outputs": [
    {
     "data": {
      "text/plain": [
       "array([1, 2, 3, 4, 5, 6, 7])"
      ]
     },
     "execution_count": 53,
     "metadata": {},
     "output_type": "execute_result"
    }
   ],
   "source": [
    "a = np.array([1, 2, 3, 4])\n",
    "b = np.array([5, 6, 7])\n",
    "\n",
    "np.concatenate((a, b))"
   ]
  }
 ],
 "metadata": {
  "kernelspec": {
   "display_name": "Python 3",
   "language": "python",
   "name": "python3"
  },
  "language_info": {
   "codemirror_mode": {
    "name": "ipython",
    "version": 3
   },
   "file_extension": ".py",
   "mimetype": "text/x-python",
   "name": "python",
   "nbconvert_exporter": "python",
   "pygments_lexer": "ipython3",
   "version": "3.10.11"
  }
 },
 "nbformat": 4,
 "nbformat_minor": 5
}
